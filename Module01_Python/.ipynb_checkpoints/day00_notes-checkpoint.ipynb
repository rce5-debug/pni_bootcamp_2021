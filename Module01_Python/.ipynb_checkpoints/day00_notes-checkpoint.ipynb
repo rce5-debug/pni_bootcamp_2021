{
  "cells": [
    {
      "cell_type": "markdown",
      "metadata": {
        "id": "UnaHvIkh17Hy"
      },
      "source": [
        "# Section 1: Introduction to Jupyter-Notebooks\n",
        "## Cell Types\n",
        "In Jupyter-Notebooks there are two main types of cells:\n",
        "* **Code:** where python (or other languages) code will be written and executed\n",
        "* **Markdown:** where documentation and organizational details can be written. Interprets the Markdown language.\n",
        "\n",
        "This cell is a Markdown cell. Click on this cell to expose the underlying Markdown code.\n",
        "\n",
        "In addition, in the toolbar directly above, cells can be toggled between *code* and *Markdown*. Additional buttons in the toolbar above allow for cutting, copying, pasting, executing, and stopping cells. Keyboard shortcuts also allow for running these commands without needing to click on the toolbar."
      ]
    },
    {
      "cell_type": "markdown",
      "metadata": {
        "id": "BnGEi_KI17H1"
      },
      "source": [
        "## Printing and Getting Help\n",
        "Use the **print** command to print variables."
      ]
    },
    {
      "cell_type": "code",
      "execution_count": null,
      "metadata": {
        "id": "5GwQk_TG17H2"
      },
      "outputs": [],
      "source": [
        "print('Hello, World!')"
      ]
    },
    {
      "cell_type": "markdown",
      "metadata": {
        "id": "YK1WbNwR17H3"
      },
      "source": [
        "With Jupyter notebooks, calling the variable itself acts as a print statement."
      ]
    },
    {
      "cell_type": "code",
      "execution_count": null,
      "metadata": {
        "id": "vRrMHaHz17H4"
      },
      "outputs": [],
      "source": [
        "'Hello, World!'"
      ]
    },
    {
      "cell_type": "markdown",
      "metadata": {
        "id": "LgN-Dxrl17H5"
      },
      "source": [
        "In python, variable assignment is denoted with the equal sign (=)."
      ]
    },
    {
      "cell_type": "code",
      "execution_count": null,
      "metadata": {
        "id": "cFzdnROZ17H5"
      },
      "outputs": [],
      "source": [
        "msg = 'Hello, World!'\n",
        "print(msg)"
      ]
    },
    {
      "cell_type": "markdown",
      "metadata": {
        "id": "3h_ydU0l17H5"
      },
      "source": [
        "Getting help is easy in Notebooks: append a '?' to the end of a function/variable."
      ]
    },
    {
      "cell_type": "code",
      "execution_count": null,
      "metadata": {
        "id": "rvq-7xq717H6"
      },
      "outputs": [],
      "source": [
        "print?"
      ]
    },
    {
      "cell_type": "markdown",
      "metadata": {
        "id": "tCqrRloY17H6"
      },
      "source": [
        "Jupyter-Notebooks also allow for tab-completion. This can be tremendously helpful in seeing what functions are available. Move the cursor to the function below and hit the tab key."
      ]
    },
    {
      "cell_type": "code",
      "execution_count": null,
      "metadata": {
        "id": "D9s1MPhK17H7"
      },
      "outputs": [],
      "source": []
    },
    {
      "cell_type": "markdown",
      "metadata": {
        "id": "LT6pdNYi17H7"
      },
      "source": [
        "# Section 2: Introduction to Python\n",
        "\n",
        "## Basic Data Types in Python\n",
        "\n",
        "### Integers, Floats, and Mathematic Operations\n",
        "Integers are numbers without a decimal point."
      ]
    },
    {
      "cell_type": "code",
      "execution_count": null,
      "metadata": {
        "colab": {
          "base_uri": "https://localhost:8080/"
        },
        "id": "Iul-_xbw17H7",
        "outputId": "0644e7f8-375c-4834-ecf9-b1c0ab66c9ba"
      },
      "outputs": [
        {
          "output_type": "stream",
          "name": "stdout",
          "text": [
            "1 <class 'int'>\n"
          ]
        }
      ],
      "source": [
        "print(1, type(1))"
      ]
    },
    {
      "cell_type": "markdown",
      "metadata": {
        "id": "wP-kXIKD17H8"
      },
      "source": [
        "Floats are numbers with a decimal point."
      ]
    },
    {
      "cell_type": "code",
      "execution_count": null,
      "metadata": {
        "colab": {
          "base_uri": "https://localhost:8080/"
        },
        "id": "2NnwK0IW17H8",
        "outputId": "0ae7e85c-cae9-4467-fbd2-efcb5024aa89"
      },
      "outputs": [
        {
          "output_type": "stream",
          "name": "stdout",
          "text": [
            "1.3 <class 'float'>\n"
          ]
        }
      ],
      "source": [
        "print(1.3, type(1.3))"
      ]
    },
    {
      "cell_type": "markdown",
      "metadata": {
        "id": "CBNShpE817H8"
      },
      "source": [
        "Adding a decimal point will convert an integer to a float."
      ]
    },
    {
      "cell_type": "code",
      "execution_count": null,
      "metadata": {
        "colab": {
          "base_uri": "https://localhost:8080/"
        },
        "id": "MwFLIHUm17H8",
        "outputId": "6120d1e3-146b-4c45-9cc6-b55496d7eda9"
      },
      "outputs": [
        {
          "output_type": "stream",
          "name": "stdout",
          "text": [
            "1.0 <class 'float'>\n"
          ]
        }
      ],
      "source": [
        "print(1., type(1.0))"
      ]
    },
    {
      "cell_type": "markdown",
      "metadata": {
        "id": "MfYp5Np917H9"
      },
      "source": [
        "These are the basic operators in python:"
      ]
    },
    {
      "cell_type": "code",
      "execution_count": null,
      "metadata": {
        "id": "TE7wH18n17H9"
      },
      "outputs": [],
      "source": [
        "print(4 + 2)   # Addition\n",
        "print(4 - 2)   # Substraction\n",
        "print(4 * 2)   # Multiplication\n",
        "print(4 / 2)   # Division\n",
        "print(4 % 2)   # Remainder (modulo)\n",
        "print(4 ** 2)  # Exponent"
      ]
    },
    {
      "cell_type": "markdown",
      "metadata": {
        "id": "Zgn-JGV317H9"
      },
      "source": [
        "Floats dominate integers in operations:"
      ]
    },
    {
      "cell_type": "code",
      "execution_count": null,
      "metadata": {
        "id": "PSVPXxTL17H9"
      },
      "outputs": [],
      "source": [
        "print(4 + 2.)\n",
        "print(4 / 2.)\n",
        "print(4 ** 2.)\n",
        "print(4 // 2)  # Except for integer division!"
      ]
    },
    {
      "cell_type": "code",
      "execution_count": null,
      "metadata": {
        "id": "-t7eBGn417H-"
      },
      "outputs": [],
      "source": [
        "5 // 2"
      ]
    },
    {
      "cell_type": "markdown",
      "metadata": {
        "id": "pxDH7FtJ17H-"
      },
      "source": [
        "Python also supports scientific notation and complex numbers:"
      ]
    },
    {
      "cell_type": "code",
      "execution_count": null,
      "metadata": {
        "id": "DM3k6uZH17H-"
      },
      "outputs": [],
      "source": [
        "print(1e3)\n",
        "print(2+3j)"
      ]
    },
    {
      "cell_type": "markdown",
      "metadata": {
        "id": "iVSBMBvm17H-"
      },
      "source": [
        "The numeric classes are special in that they allow in-place assignment for convenience."
      ]
    },
    {
      "cell_type": "code",
      "execution_count": null,
      "metadata": {
        "id": "eAoH7vAp17H_"
      },
      "outputs": [],
      "source": [
        "## Make new variable.\n",
        "x = 1.\n",
        "\n",
        "## In-place addition\n",
        "x += 1.\n",
        "print(x)\n",
        "\n",
        "## In-place multiplcation.\n",
        "x *= 2.\n",
        "print(x)\n",
        "\n",
        "## In-place exponentiation.\n",
        "x **= 2.\n",
        "print(x)"
      ]
    },
    {
      "cell_type": "markdown",
      "metadata": {
        "id": "jFYoBTVO17H_"
      },
      "source": [
        "### Checkpoint: In-place operations.\n",
        "How would you do in-place subtraction? Division?"
      ]
    },
    {
      "cell_type": "code",
      "execution_count": null,
      "metadata": {
        "colab": {
          "base_uri": "https://localhost:8080/"
        },
        "id": "Wdd5vYyX17H_",
        "outputId": "f7b0ad23-45ab-4459-eaad-917aec74ba35"
      },
      "outputs": [
        {
          "output_type": "stream",
          "name": "stdout",
          "text": [
            "48\n",
            "12.0\n"
          ]
        }
      ],
      "source": [
        "## Make new variable\n",
        "x=54\n",
        "## In-place subtracion\n",
        "x-=6\n",
        "print(x)\n",
        "## In-place division\n",
        "x/=4\n",
        "print(x)"
      ]
    },
    {
      "cell_type": "markdown",
      "metadata": {
        "id": "gJQoq4SA17H_"
      },
      "source": [
        "### Booleans\n",
        "The Boolean objects in Python are the **True** and **False** objects."
      ]
    },
    {
      "cell_type": "code",
      "execution_count": null,
      "metadata": {
        "id": "2iyl77Mv17IA"
      },
      "outputs": [],
      "source": [
        "print(True, False)"
      ]
    },
    {
      "cell_type": "markdown",
      "metadata": {
        "id": "sBtX3J6417IA"
      },
      "source": [
        "These are the comparison operators in python:"
      ]
    },
    {
      "cell_type": "code",
      "execution_count": null,
      "metadata": {
        "colab": {
          "base_uri": "https://localhost:8080/"
        },
        "id": "aa7ejyOS17IA",
        "outputId": "d7badfce-acbd-415e-f60b-dfa8982aa14e"
      },
      "outputs": [
        {
          "output_type": "stream",
          "name": "stdout",
          "text": [
            "4 > 2:  True\n",
            "4 < 2:  False\n",
            "4 == 2: False\n",
            "4 >= 2: True\n",
            "4 <= 2: False\n",
            "4 != 2: True\n"
          ]
        }
      ],
      "source": [
        "print('4 > 2:  %s' %(4 > 2))    # Greater than\n",
        "print('4 < 2:  %s' %(4 < 2))    # Less than\n",
        "print('4 == 2: %s' %(4 == 2))   # Equal to\n",
        "print('4 >= 2: %s' %(4 >= 2))   # Greater than or equal to\n",
        "print('4 <= 2: %s' %(4 <= 2))   # Less than or equal to\n",
        "print('4 != 2: %s' %(4 != 2))   # Not equal to"
      ]
    },
    {
      "cell_type": "code",
      "source": [
        "print('4 < 8: %s'%(4 < 2))\n",
        "print('4 > 8: %s'%(4 >8))"
      ],
      "metadata": {
        "colab": {
          "base_uri": "https://localhost:8080/"
        },
        "id": "r2uNvO__4SJd",
        "outputId": "5f8b130c-b511-4b23-acc0-bb4012c4ca8a"
      },
      "execution_count": null,
      "outputs": [
        {
          "output_type": "stream",
          "name": "stdout",
          "text": [
            "4 < 8: False\n",
            "4 > 8: False\n"
          ]
        }
      ]
    },
    {
      "cell_type": "markdown",
      "metadata": {
        "id": "f9n1jBiP17IA"
      },
      "source": [
        "In Python, True and False are equvalent to the integers 1 and 0, respectively."
      ]
    },
    {
      "cell_type": "code",
      "execution_count": null,
      "metadata": {
        "colab": {
          "base_uri": "https://localhost:8080/"
        },
        "id": "-zO4QdXI17IB",
        "outputId": "d56a4895-42dd-487e-f0be-dd5cdd397688"
      },
      "outputs": [
        {
          "output_type": "stream",
          "name": "stdout",
          "text": [
            "True\n",
            "True\n"
          ]
        }
      ],
      "source": [
        "print(True == 1)   # True is equivalent to 1.\n",
        "print(False == 0)  # False is equivalent to 0."
      ]
    },
    {
      "cell_type": "markdown",
      "metadata": {
        "id": "QZQct4lu17IB"
      },
      "source": [
        "Another way to demonstrate this point is to convert booleans to integers."
      ]
    },
    {
      "cell_type": "code",
      "execution_count": null,
      "metadata": {
        "colab": {
          "base_uri": "https://localhost:8080/"
        },
        "id": "aXscgeQU17IB",
        "outputId": "6544b3b9-f662-454a-fbcb-5767cae18bb1"
      },
      "outputs": [
        {
          "output_type": "stream",
          "name": "stdout",
          "text": [
            "1\n",
            "0\n"
          ]
        }
      ],
      "source": [
        "print( int(True) )\n",
        "print( int(False) )"
      ]
    },
    {
      "cell_type": "markdown",
      "metadata": {
        "id": "uVtB0-lG17IB"
      },
      "source": [
        "Python also uses **is** and **not** operators as another means of checking for equality of numbers..."
      ]
    },
    {
      "cell_type": "code",
      "execution_count": null,
      "metadata": {
        "colab": {
          "base_uri": "https://localhost:8080/"
        },
        "id": "aZnzMHA_17IC",
        "outputId": "742910c4-d45b-4236-dbad-fa7c22a1172b"
      },
      "outputs": [
        {
          "output_type": "stream",
          "name": "stdout",
          "text": [
            "False\n",
            "True\n"
          ]
        },
        {
          "output_type": "stream",
          "name": "stderr",
          "text": [
            "<>:4: SyntaxWarning: \"is\" with 'int' literal. Did you mean \"==\"?\n",
            "<>:5: SyntaxWarning: \"is not\" with 'int' literal. Did you mean \"!=\"?\n",
            "<>:4: SyntaxWarning: \"is\" with 'int' literal. Did you mean \"==\"?\n",
            "<>:5: SyntaxWarning: \"is not\" with 'int' literal. Did you mean \"!=\"?\n",
            "/tmp/ipython-input-489740180.py:4: SyntaxWarning: \"is\" with 'int' literal. Did you mean \"==\"?\n",
            "  print(4 is 2)\n",
            "/tmp/ipython-input-489740180.py:5: SyntaxWarning: \"is not\" with 'int' literal. Did you mean \"!=\"?\n",
            "  print(4 is not 2)\n"
          ]
        }
      ],
      "source": [
        "x=4\n",
        "z=4\n",
        "\n",
        "print(4 is 2)\n",
        "print(4 is not 2)\n"
      ]
    },
    {
      "cell_type": "code",
      "source": [
        "y=6\n",
        "x=6\n",
        "print (6 is 2)\n",
        "print (6 is not 2)"
      ],
      "metadata": {
        "colab": {
          "base_uri": "https://localhost:8080/"
        },
        "id": "24jIHaO-1_xh",
        "outputId": "5f51c21d-4c7f-4d91-cbfe-3f65c4facaa9"
      },
      "execution_count": null,
      "outputs": [
        {
          "output_type": "stream",
          "name": "stdout",
          "text": [
            "False\n",
            "True\n"
          ]
        },
        {
          "output_type": "stream",
          "name": "stderr",
          "text": [
            "<>:3: SyntaxWarning: \"is\" with 'int' literal. Did you mean \"==\"?\n",
            "<>:4: SyntaxWarning: \"is not\" with 'int' literal. Did you mean \"!=\"?\n",
            "<>:3: SyntaxWarning: \"is\" with 'int' literal. Did you mean \"==\"?\n",
            "<>:4: SyntaxWarning: \"is not\" with 'int' literal. Did you mean \"!=\"?\n",
            "/tmp/ipython-input-3667089399.py:3: SyntaxWarning: \"is\" with 'int' literal. Did you mean \"==\"?\n",
            "  print (6 is 2)\n",
            "/tmp/ipython-input-3667089399.py:4: SyntaxWarning: \"is not\" with 'int' literal. Did you mean \"!=\"?\n",
            "  print (6 is not 2)\n"
          ]
        }
      ]
    },
    {
      "cell_type": "markdown",
      "metadata": {
        "id": "60NiUESX17IC"
      },
      "source": [
        "HOWEVER, **is** is technically checking if objects are identical. So stick to == when comparing **values**"
      ]
    },
    {
      "cell_type": "code",
      "execution_count": null,
      "metadata": {
        "id": "dVtbhA6r17Ia"
      },
      "outputs": [],
      "source": [
        "x=['hello']\n",
        "y=['hello']\n",
        "z=x\n",
        "print(x is y)\n",
        "print(x == y)\n",
        "print(x is z)"
      ]
    },
    {
      "cell_type": "markdown",
      "metadata": {
        "id": "AgH3ahK117Ib"
      },
      "source": [
        "### Checkpoint: Comparisons\n",
        "Digital computers have memory limitations and cannot represent arbitrarily large and small numbers. Using Scientific notation (e.g. 1e-10) and the *equals to* operator (==), find an arbitrarily small number that is equal to zero."
      ]
    },
    {
      "cell_type": "code",
      "execution_count": null,
      "metadata": {
        "colab": {
          "base_uri": "https://localhost:8080/"
        },
        "id": "9AZOaVx317Ib",
        "outputId": "cbb20df1-b362-4a68-c7d8-9bb9756c5cf9"
      },
      "outputs": [
        {
          "output_type": "stream",
          "name": "stdout",
          "text": [
            "False\n",
            "5e-168\n"
          ]
        }
      ],
      "source": [
        "x=5e-168\n",
        "print(x==0)"
      ]
    },
    {
      "cell_type": "markdown",
      "metadata": {
        "id": "lPQZWaLK17Ib"
      },
      "source": [
        "### Text and Strings"
      ]
    },
    {
      "cell_type": "markdown",
      "metadata": {
        "id": "-zcvZ4zu17Ic"
      },
      "source": [
        "Strings are demarcated by single or double quotation marks."
      ]
    },
    {
      "cell_type": "code",
      "execution_count": null,
      "metadata": {
        "id": "apVLJNFr17Ic"
      },
      "outputs": [],
      "source": [
        "string = 'a run-of-the-mill string'\n",
        "string"
      ]
    },
    {
      "cell_type": "markdown",
      "metadata": {
        "id": "JGWV2X_x17Ic"
      },
      "source": [
        "Paragraphs (e.g. docstrings) can be written with triple quotes:"
      ]
    },
    {
      "cell_type": "code",
      "execution_count": null,
      "metadata": {
        "id": "7x1h6x3z17Ic"
      },
      "outputs": [],
      "source": [
        "paragraph = \"\"\"You can use the triple quotes to write paragraphs\n",
        "of text. Note that any line-break is maintained. Triple quotes are\n",
        "used to define function docstrings.\"\"\"\n",
        "\n",
        "paragraph"
      ]
    },
    {
      "cell_type": "markdown",
      "metadata": {
        "id": "hgqZrjYD17Id"
      },
      "source": [
        "One very useful feature is string substition, where text or numbers can be inserted into a string. String substitution is denoted by the by the percent operator. Different substitutions types exist.  "
      ]
    },
    {
      "cell_type": "code",
      "execution_count": null,
      "metadata": {
        "colab": {
          "base_uri": "https://localhost:8080/"
        },
        "id": "3EXGV4eu17Id",
        "outputId": "7ac074ae-9642-441f-e21e-01dfa8b7ea1a"
      },
      "outputs": [
        {
          "output_type": "stream",
          "name": "stdout",
          "text": [
            "Hi, my name is Bear!\n"
          ]
        }
      ],
      "source": [
        "# %s: Insert as string (no modification).\n",
        "name = \"Bear\"\n",
        "print('Hi, my name is %s!' %name)"
      ]
    },
    {
      "cell_type": "code",
      "source": [
        "# %s: Insert as string (no modification).\n",
        "name = \"rita\"\n",
        "print('hi, my name is %s!' %name)"
      ],
      "metadata": {
        "colab": {
          "base_uri": "https://localhost:8080/"
        },
        "id": "4P2KkM5w7ddN",
        "outputId": "6a734e44-f132-4c16-b601-272224f7e81f"
      },
      "execution_count": null,
      "outputs": [
        {
          "output_type": "stream",
          "name": "stdout",
          "text": [
            "hi, my name is rita!\n"
          ]
        }
      ]
    },
    {
      "cell_type": "code",
      "source": [
        "# %s: Insert as string (no modification).\n",
        "name = \"Bear\"\n",
        "print('Hi, my name is %s!' %name)"
      ],
      "metadata": {
        "colab": {
          "base_uri": "https://localhost:8080/"
        },
        "id": "VGeOkxeY7dA3",
        "outputId": "f73f0d4a-4735-4cf4-c043-c3c42696ef5a"
      },
      "execution_count": null,
      "outputs": [
        {
          "output_type": "stream",
          "name": "stdout",
          "text": [
            "Hi, my name is Bear!\n"
          ]
        }
      ]
    },
    {
      "cell_type": "code",
      "execution_count": null,
      "metadata": {
        "colab": {
          "base_uri": "https://localhost:8080/"
        },
        "id": "XOreERam17Id",
        "outputId": "38cc978c-7251-4a22-c9b0-0b3cfe74af1e"
      },
      "outputs": [
        {
          "output_type": "stream",
          "name": "stdout",
          "text": [
            "Pi to the 2nd digit is 3.14.\n"
          ]
        }
      ],
      "source": [
        "# %0._f: Insert a number rounded to the _th digit.\n",
        "pi = 3.14159\n",
        "print('Pi to the 2nd digit is %0.2f.' %pi)"
      ]
    },
    {
      "cell_type": "code",
      "source": [
        "# %0_f: Insert a number rounded to the _the dight.\n",
        "e = 2.71828\n",
        "print('e to the 2nd digit is %0.2f.' %e)"
      ],
      "metadata": {
        "colab": {
          "base_uri": "https://localhost:8080/"
        },
        "id": "kfEEzk419M2C",
        "outputId": "82662eb7-7050-49d4-f75f-4d5aea567a4a"
      },
      "execution_count": null,
      "outputs": [
        {
          "output_type": "stream",
          "name": "stdout",
          "text": [
            "e to the 2nd digit is 2.72.\n"
          ]
        }
      ]
    },
    {
      "cell_type": "code",
      "execution_count": null,
      "metadata": {
        "id": "lXXFb3XS17Id"
      },
      "outputs": [],
      "source": [
        "# %0._d: Insert a number prepended with _ zeros.\n",
        "num = 1\n",
        "print('Prepend two zeros: %0.3d' %num)"
      ]
    },
    {
      "cell_type": "markdown",
      "metadata": {
        "id": "gfQwsSey17Ie"
      },
      "source": [
        "A new method for string substitution is f-strings."
      ]
    },
    {
      "cell_type": "code",
      "execution_count": null,
      "metadata": {
        "id": "eae9MtSc17Ie"
      },
      "outputs": [],
      "source": [
        "print( f\"When you think about it, aren't we all just {string}?\" )"
      ]
    },
    {
      "cell_type": "markdown",
      "metadata": {
        "id": "q3X1lIw_17Ie"
      },
      "source": [
        "The string object has many associated functions that can be used to modify the string."
      ]
    },
    {
      "cell_type": "code",
      "execution_count": null,
      "metadata": {
        "id": "MWLp-wyu17If"
      },
      "outputs": [],
      "source": [
        "## Capitalize string.\n",
        "capitalized = string.capitalize()\n",
        "print('Capitalize:    %s' %capitalized)\n",
        "\n",
        "## Uppercase string.\n",
        "upper = string.upper()\n",
        "print('Uppercase:     %s' %upper)\n",
        "\n",
        "## Count \"i\"s.\n",
        "num_is = string.count('i')\n",
        "print('Count \"i\"s:    %s' %num_is)\n",
        "\n",
        "## Replace \"i\" for \"o\"s.\n",
        "io = string.replace('i','o')\n",
        "print( 'Replace (i,o): %s' %io)"
      ]
    },
    {
      "cell_type": "markdown",
      "metadata": {
        "id": "p7t2WsRN17If"
      },
      "source": [
        "Strings are easily combined, through with the\n",
        "addition operator or the join attribute."
      ]
    },
    {
      "cell_type": "code",
      "execution_count": null,
      "metadata": {
        "colab": {
          "base_uri": "https://localhost:8080/"
        },
        "id": "racQ3TR717If",
        "outputId": "da1a1e28-a0c1-4221-bdb4-2930b8306109"
      },
      "outputs": [
        {
          "output_type": "stream",
          "name": "stdout",
          "text": [
            "This is the first half. This is the second half.\n",
            "This is the first half. This is the second half.\n"
          ]
        }
      ],
      "source": [
        "## Strings joined with addition operator.\n",
        "joined = 'This is the first half.' + ' ' + 'This is the second half.'\n",
        "print(joined)\n",
        "\n",
        "## Strings joined with the join function.\n",
        "joined = ' '.join(['This is the first half.', 'This is the second half.'])\n",
        "print(joined)"
      ]
    },
    {
      "cell_type": "markdown",
      "metadata": {
        "id": "u1Nm5gNn17Ig"
      },
      "source": [
        "Python has incredibly powerful natural language processing packages, including NLTK and Scrapy."
      ]
    },
    {
      "cell_type": "markdown",
      "metadata": {
        "id": "05LkDqnI17Ig"
      },
      "source": [
        "## Containers\n",
        "### Lists\n",
        "Lists are the most basic container and are denoted by brackets. Lists can store any pythonic type, and elements of a list do not need to be of the same type."
      ]
    },
    {
      "cell_type": "code",
      "execution_count": null,
      "metadata": {
        "id": "rEBAE5vb17Ig"
      },
      "outputs": [],
      "source": [
        "example_list = [1, 1., 1e3, 2+3j, True,'Bear is cute']\n",
        "print(example_list)"
      ]
    },
    {
      "cell_type": "markdown",
      "metadata": {
        "id": "0214jwqp17Ih"
      },
      "source": [
        "Brackets are used again to index into lists. **NOTE:** Python is a 0-indexed language. The first element of a list\n",
        "is the 0th position of the list!"
      ]
    },
    {
      "cell_type": "code",
      "execution_count": null,
      "metadata": {
        "colab": {
          "base_uri": "https://localhost:8080/"
        },
        "id": "52_BEAXd17Ih",
        "outputId": "9aff7d3b-9ef5-4a8d-c9a2-b67e25b9b165"
      },
      "outputs": [
        {
          "output_type": "stream",
          "name": "stdout",
          "text": [
            "[1, 1.0, 1000.0, (2+3j), True, 'Bear is cute']\n",
            "The first element of the list is 1.\n",
            "The third element of the list is 1000.0.\n",
            "The last element of the list is Bear is cute.\n"
          ]
        }
      ],
      "source": [
        "\n",
        "example_list = [1, 1., 1e3, 2+3j, True,'Bear is cute']\n",
        "print(example_list)\n",
        "\n",
        "\n",
        "elem_first = example_list[0]\n",
        "print('The first element of the list is %s.' %elem_first)\n",
        "\n",
        "elem_third = example_list[2]\n",
        "print('The third element of the list is %s.' %elem_third)\n",
        "\n",
        "elem_last = example_list[-1]\n",
        "print('The last element of the list is %s.' %elem_last)"
      ]
    },
    {
      "cell_type": "code",
      "execution_count": null,
      "metadata": {
        "id": "3O-tvqTaEQV_"
      },
      "outputs": [],
      "source": [
        "example_list = [1, 1., 1e3, 2+3j, True,'Bear is cute']\n",
        "print(example_list)"
      ]
    },
    {
      "cell_type": "markdown",
      "metadata": {
        "id": "RsFoD6TZ17Ih"
      },
      "source": [
        "Mutliple elements from a list can be retrieved through slicing, which uses the colon operator."
      ]
    },
    {
      "cell_type": "code",
      "execution_count": null,
      "metadata": {
        "colab": {
          "base_uri": "https://localhost:8080/"
        },
        "id": "vSJsED8-17Ih",
        "outputId": "d3121bbe-5338-4e14-9986-4d0296ea7246"
      },
      "outputs": [
        {
          "output_type": "stream",
          "name": "stdout",
          "text": [
            "[1.0, 1000.0]\n",
            "[1.0, 1000.0, (2+3j), True, 'Bear is cute']\n",
            "[1, 1.0]\n"
          ]
        }
      ],
      "source": [
        "print(example_list[1:3])    # Second-through-third elements (up-to-not-include)\n",
        "print(example_list[1:])     # Second element onwards.\n",
        "print(example_list[:2])     # Up to (but not including) the third element element."
      ]
    },
    {
      "cell_type": "markdown",
      "metadata": {
        "id": "jSQ3Ocz117Ii"
      },
      "source": [
        "Slicing also allows for the following operations:"
      ]
    },
    {
      "cell_type": "code",
      "execution_count": null,
      "metadata": {
        "id": "0bbb7Aos17Ii"
      },
      "outputs": [],
      "source": [
        "## Original list.\n",
        "print('list       = %s' %example_list)\n",
        "\n",
        "## Second-to-last element onwards\n",
        "print('list[-2:]  = %s' %example_list[-2:])\n",
        "\n",
        "## Up to second-to-last element\n",
        "print('list[:-2]  = %s' %example_list[:-2])\n",
        "\n",
        "## Every other element\n",
        "print('list[::2]  = %s' %example_list[::2])\n",
        "\n",
        "## Reverse elements.\n",
        "print('list[::-1] = %s' %example_list[::-1])"
      ]
    },
    {
      "cell_type": "markdown",
      "metadata": {
        "id": "3vj-Eba117Ii"
      },
      "source": [
        "Slicing operators can be combined. Here we extract every other element, starting from the second through the second-to-last."
      ]
    },
    {
      "cell_type": "code",
      "execution_count": null,
      "metadata": {
        "id": "JrY863c717Ij"
      },
      "outputs": [],
      "source": [
        "print(example_list[1:-1:2])"
      ]
    },
    {
      "cell_type": "markdown",
      "metadata": {
        "id": "_HXSpDWM17Ij"
      },
      "source": [
        "Strings are actually just lists of characters and can be indexed in the same as as lists."
      ]
    },
    {
      "cell_type": "markdown",
      "metadata": {
        "id": "Lao0BVju17Ij"
      },
      "source": [
        "### Checkpoint: Manipulating Lists\n",
        "The goal of this exercise is to get used to making and manipulating lists. The elements of the to-be list are:"
      ]
    },
    {
      "cell_type": "code",
      "execution_count": null,
      "metadata": {
        "id": "iujZwEP-17Ik"
      },
      "outputs": [],
      "source": [
        "3 'Yankee' 7.6 None False 2.5e-2 'Foxtrot'"
      ]
    },
    {
      "cell_type": "markdown",
      "metadata": {
        "id": "8jw9_CBw17Ik"
      },
      "source": [
        "Store the elements above in a new list."
      ]
    },
    {
      "cell_type": "code",
      "source": [],
      "metadata": {
        "id": "AztL3VmrCiub"
      },
      "execution_count": null,
      "outputs": []
    },
    {
      "cell_type": "code",
      "execution_count": null,
      "metadata": {
        "colab": {
          "base_uri": "https://localhost:8080/"
        },
        "id": "949kYCAf17Ik",
        "outputId": "286f241a-29f9-4834-9aea-c79b455ad90e"
      },
      "outputs": [
        {
          "output_type": "stream",
          "name": "stdout",
          "text": [
            "['Yankee', 7.6, None, False, 0.025, 'Foxtrot']\n"
          ]
        }
      ],
      "source": [
        "Tobe_list = ['Yankee', 7.6, None, False, 2.5e-2,'Foxtrot']\n",
        "print(Tobe_list)"
      ]
    },
    {
      "cell_type": "markdown",
      "metadata": {
        "id": "vBmASl_z17Ik"
      },
      "source": [
        "Return the 3rd element of the list."
      ]
    },
    {
      "cell_type": "code",
      "execution_count": null,
      "metadata": {
        "colab": {
          "base_uri": "https://localhost:8080/"
        },
        "id": "iidvKrfJ17Il",
        "outputId": "fb2b50e7-b6e1-42b2-9b02-caf0c1548e30"
      },
      "outputs": [
        {
          "output_type": "stream",
          "name": "stdout",
          "text": [
            "The third element of the list is None.\n"
          ]
        }
      ],
      "source": [
        "Tobe_list = ['Yankee', 7.6, None, False, 2.5e-2,'Foxtrot']\n",
        "elem_third = Tobe_list[2]\n",
        "print('The third element of the list is %s.' %elem_third)"
      ]
    },
    {
      "cell_type": "markdown",
      "metadata": {
        "id": "HFsQWz5w17Il"
      },
      "source": [
        "Return the 2nd-to-last element of the list."
      ]
    },
    {
      "cell_type": "code",
      "execution_count": null,
      "metadata": {
        "colab": {
          "base_uri": "https://localhost:8080/"
        },
        "id": "mBhXFWng17Il",
        "outputId": "0031c0d3-80f7-47f7-a12f-6f3402fe532f"
      },
      "outputs": [
        {
          "output_type": "stream",
          "name": "stdout",
          "text": [
            "The second to last element of the list is 0.025.\n"
          ]
        }
      ],
      "source": [
        "Tobe_list = ['Yankee', 7.6, None, False, 2.5e-2,'Foxtrot']\n",
        "elem_last = Tobe_list[4]\n",
        "print('The second to last element of the list is %s.' %elem_last)"
      ]
    },
    {
      "cell_type": "markdown",
      "metadata": {
        "id": "KEMhxA_917Il"
      },
      "source": [
        "Return every third element, starting from the 2nd element."
      ]
    },
    {
      "cell_type": "code",
      "execution_count": null,
      "metadata": {
        "colab": {
          "base_uri": "https://localhost:8080/"
        },
        "id": "zvT8egkb17Im",
        "outputId": "9c9559f4-0a95-4711-c2bf-1798f8982aa8"
      },
      "outputs": [
        {
          "output_type": "stream",
          "name": "stdout",
          "text": [
            "The third element starting with the second element: [7.6, 0.025]\n"
          ]
        }
      ],
      "source": [
        "Tobe_list = ['Yankee', 7.6, None, False, 2.5e-2,'Foxtrot']\n",
        "elem_third = Tobe_list[1::3] # Corrected to get every third element starting from the second\n",
        "print('The third element starting with the second element: %s' % elem_third)"
      ]
    },
    {
      "cell_type": "markdown",
      "metadata": {
        "id": "w-p982Iv17Im"
      },
      "source": [
        "#### Back to lists\n",
        "Indexing and slicing can also be used to update elements in the list."
      ]
    },
    {
      "cell_type": "code",
      "execution_count": null,
      "metadata": {
        "id": "CAhws8Ff17Im",
        "colab": {
          "base_uri": "https://localhost:8080/"
        },
        "outputId": "fa9318e2-62e5-4152-8cb7-0b10406d3286"
      },
      "outputs": [
        {
          "output_type": "execute_result",
          "data": {
            "text/plain": [
              "[1, 1.0, 1000.0, (2+3j), False]"
            ]
          },
          "metadata": {},
          "execution_count": 3
        }
      ],
      "source": [
        "example_list = [1, 1., 1e3, 2+3j, True]\n",
        "example_list[-1] = False\n",
        "example_list"
      ]
    },
    {
      "cell_type": "markdown",
      "metadata": {
        "id": "fIB9M3S-17Im"
      },
      "source": [
        "We can add new elements to the list using **append**. Note that this occurs **in-place.**"
      ]
    },
    {
      "cell_type": "code",
      "execution_count": null,
      "metadata": {
        "id": "N6Ci2qRz17In",
        "colab": {
          "base_uri": "https://localhost:8080/"
        },
        "outputId": "5813e545-ff7a-4706-bd3a-0670577d7878"
      },
      "outputs": [
        {
          "output_type": "execute_result",
          "data": {
            "text/plain": [
              "[1, 1.0, 1000.0, (2+3j), False, 111]"
            ]
          },
          "metadata": {},
          "execution_count": 4
        }
      ],
      "source": [
        "example_list.append( 111 )\n",
        "example_list"
      ]
    },
    {
      "cell_type": "markdown",
      "metadata": {
        "id": "XZ1BUiAM17In"
      },
      "source": [
        "**Insert** allows for adding new elements to specified positions."
      ]
    },
    {
      "cell_type": "code",
      "execution_count": null,
      "metadata": {
        "id": "Nb9k7S3a17In",
        "colab": {
          "base_uri": "https://localhost:8080/"
        },
        "outputId": "ae7c32bc-fa4b-4224-b249-860a910cdc0b"
      },
      "outputs": [
        {
          "output_type": "execute_result",
          "data": {
            "text/plain": [
              "[222, 1, 1.0, 1000.0, (2+3j), False, 111]"
            ]
          },
          "metadata": {},
          "execution_count": 5
        }
      ],
      "source": [
        "## (Index, Value)\n",
        "example_list.insert(0, 222)\n",
        "example_list"
      ]
    },
    {
      "cell_type": "code",
      "source": [
        "##(Index, value)\n",
        "Tobe_list = ['Yankee', 7.6, None, False, 2.5e-2,'Foxtrot']\n",
        "Tobe_list.insert(2,78)\n",
        "Tobe_list"
      ],
      "metadata": {
        "colab": {
          "base_uri": "https://localhost:8080/"
        },
        "id": "b5jEEw35vWB6",
        "outputId": "f505321e-066f-48d3-90a7-dfc73226880b"
      },
      "execution_count": null,
      "outputs": [
        {
          "output_type": "execute_result",
          "data": {
            "text/plain": [
              "['Yankee', 7.6, 78, None, False, 0.025, 'Foxtrot']"
            ]
          },
          "metadata": {},
          "execution_count": 10
        }
      ]
    },
    {
      "cell_type": "markdown",
      "metadata": {
        "id": "3tW4Uhbc17Io"
      },
      "source": [
        "Elements can be removed from a list using the **pop** or **remove** function. **Pop** deletes an element by its index, **remove** deletes an element by its value."
      ]
    },
    {
      "cell_type": "code",
      "execution_count": null,
      "metadata": {
        "id": "U_1lRuZH17Io",
        "colab": {
          "base_uri": "https://localhost:8080/"
        },
        "outputId": "03a5d9b6-9d0f-4f13-9198-ecc6142f441c"
      },
      "outputs": [
        {
          "output_type": "stream",
          "name": "stdout",
          "text": [
            "Before: [222, 1, 1.0, 1000.0, (2+3j), False, 111]\n",
            "After: [222, 1, 1000.0, (2+3j), False]\n"
          ]
        }
      ],
      "source": [
        "print('Before: %s' %example_list)\n",
        "\n",
        "## Pop the third element\n",
        "example_list.pop(2)\n",
        "\n",
        "## Remove the value 111.\n",
        "example_list.remove(111)\n",
        "\n",
        "print('After: %s' %example_list)"
      ]
    },
    {
      "cell_type": "code",
      "source": [
        "Tobe_list = ['Yankee', 7.6, None, False, 2.5e-2,'Foxtrot']\n",
        "None == 2\n",
        "Tobe_list.pop(2)\n",
        "Tobe_list"
      ],
      "metadata": {
        "colab": {
          "base_uri": "https://localhost:8080/"
        },
        "id": "BKF175P7wKM5",
        "outputId": "9882b8eb-6934-4b9e-9db8-d8054dad1f38"
      },
      "execution_count": null,
      "outputs": [
        {
          "output_type": "execute_result",
          "data": {
            "text/plain": [
              "['Yankee', 7.6, False, 0.025, 'Foxtrot']"
            ]
          },
          "metadata": {},
          "execution_count": 13
        }
      ]
    },
    {
      "cell_type": "markdown",
      "metadata": {
        "id": "wpiucd1-17Io"
      },
      "source": [
        "The contents of a list can also be tested with the **in** operator."
      ]
    },
    {
      "cell_type": "code",
      "execution_count": null,
      "metadata": {
        "id": "HGo5jbu717Io",
        "colab": {
          "base_uri": "https://localhost:8080/"
        },
        "outputId": "10bd56cc-00db-4d83-be09-c904eaa510e4"
      },
      "outputs": [
        {
          "output_type": "stream",
          "name": "stdout",
          "text": [
            "True\n",
            "False\n"
          ]
        }
      ],
      "source": [
        "print( 222 in example_list )\n",
        "print( 999 in example_list )"
      ]
    },
    {
      "cell_type": "code",
      "source": [
        "print( 'Yankee' in Tobe_list )\n",
        "print( 'peace' in Tobe_list)"
      ],
      "metadata": {
        "colab": {
          "base_uri": "https://localhost:8080/"
        },
        "id": "xpvR0cW0yLDQ",
        "outputId": "ef660183-0fc0-41ac-b9e9-c1f290c0d624"
      },
      "execution_count": null,
      "outputs": [
        {
          "output_type": "stream",
          "name": "stdout",
          "text": [
            "True\n",
            "False\n"
          ]
        }
      ]
    },
    {
      "cell_type": "markdown",
      "metadata": {
        "id": "lB-gAObQ17Ip"
      },
      "source": [
        "As an aside, strings are essentially lists with characters."
      ]
    },
    {
      "cell_type": "code",
      "execution_count": null,
      "metadata": {
        "id": "QiNS_oO817Ip",
        "colab": {
          "base_uri": "https://localhost:8080/",
          "height": 211
        },
        "outputId": "fd74f806-9054-459f-8b28-d1a5b8a5bec0"
      },
      "outputs": [
        {
          "output_type": "error",
          "ename": "NameError",
          "evalue": "name 'string' is not defined",
          "traceback": [
            "\u001b[0;31m---------------------------------------------------------------------------\u001b[0m",
            "\u001b[0;31mNameError\u001b[0m                                 Traceback (most recent call last)",
            "\u001b[0;32m/tmp/ipython-input-3489570920.py\u001b[0m in \u001b[0;36m<cell line: 0>\u001b[0;34m()\u001b[0m\n\u001b[0;32m----> 1\u001b[0;31m \u001b[0mprint\u001b[0m\u001b[0;34m(\u001b[0m\u001b[0;34m'string       = %s'\u001b[0m \u001b[0;34m%\u001b[0m\u001b[0mstring\u001b[0m\u001b[0;34m)\u001b[0m\u001b[0;34m\u001b[0m\u001b[0;34m\u001b[0m\u001b[0m\n\u001b[0m\u001b[1;32m      2\u001b[0m \u001b[0;34m\u001b[0m\u001b[0m\n\u001b[1;32m      3\u001b[0m \u001b[0;31m## 4th character onwards.\u001b[0m\u001b[0;34m\u001b[0m\u001b[0;34m\u001b[0m\u001b[0m\n\u001b[1;32m      4\u001b[0m \u001b[0mprint\u001b[0m\u001b[0;34m(\u001b[0m\u001b[0;34m'string[4:]   = %s'\u001b[0m \u001b[0;34m%\u001b[0m\u001b[0mstring\u001b[0m\u001b[0;34m[\u001b[0m\u001b[0;36m4\u001b[0m\u001b[0;34m:\u001b[0m\u001b[0;34m]\u001b[0m\u001b[0;34m)\u001b[0m\u001b[0;34m\u001b[0m\u001b[0;34m\u001b[0m\u001b[0m\n\u001b[1;32m      5\u001b[0m \u001b[0;34m\u001b[0m\u001b[0m\n",
            "\u001b[0;31mNameError\u001b[0m: name 'string' is not defined"
          ]
        }
      ],
      "source": [
        "print('string       = %s' %string)\n",
        "\n",
        "## 4th character onwards.\n",
        "print('string[4:]   = %s' %string[4:])\n",
        "\n",
        "## Reversed string.\n",
        "print('string[::-1] = %s' %string[::-1])\n",
        "\n",
        "## Every other character.\n",
        "print('string[::2]  = %s' %string[::2])"
      ]
    },
    {
      "cell_type": "code",
      "source": [
        "Tobe_list = ['Yankee', 7.6, None, False, 2.5e-2,'Foxtrot']\n",
        "print('string       = %s' %Tobe_list)\n",
        "print('string[::1]  = %s' %Tobe_list[::1])"
      ],
      "metadata": {
        "colab": {
          "base_uri": "https://localhost:8080/"
        },
        "id": "ZA7xVZl78MuE",
        "outputId": "e0b79122-c342-411f-e65b-183ea4831c8d"
      },
      "execution_count": null,
      "outputs": [
        {
          "output_type": "stream",
          "name": "stdout",
          "text": [
            "string       = ['Yankee', 7.6, None, False, 0.025, 'Foxtrot']\n",
            "string[::1]  = ['Yankee', 7.6, None, False, 0.025, 'Foxtrot']\n"
          ]
        }
      ]
    },
    {
      "cell_type": "markdown",
      "metadata": {
        "id": "iOH8ALe317Ip"
      },
      "source": [
        "### Tuples\n",
        "Tuples are denoted by parantheses. Tuples are like lists except that they are **immutable.** Tuples cannot be modified once they are created."
      ]
    },
    {
      "cell_type": "code",
      "execution_count": null,
      "metadata": {
        "id": "SczcrK2D17Iq"
      },
      "outputs": [],
      "source": [
        "example_list = [1, 2, 3, 4]\n",
        "example_tuple = (1, 2, 3, 4)"
      ]
    },
    {
      "cell_type": "code",
      "execution_count": null,
      "metadata": {
        "id": "rmrjTDZ817Iq",
        "colab": {
          "base_uri": "https://localhost:8080/"
        },
        "outputId": "c821f1db-13c9-4bf4-99e2-aa9b947e4744"
      },
      "outputs": [
        {
          "output_type": "stream",
          "name": "stdout",
          "text": [
            "[222, 9, 9, (2+3j), False]\n"
          ]
        }
      ],
      "source": [
        "## Change the second element of the list.\n",
        "example_list[2] = 9\n",
        "print(example_list)"
      ]
    },
    {
      "cell_type": "code",
      "execution_count": null,
      "metadata": {
        "id": "uanjLS-U17Iq",
        "colab": {
          "base_uri": "https://localhost:8080/",
          "height": 193
        },
        "outputId": "09dd9283-bc78-47b5-c6f8-2c08b64781fa"
      },
      "outputs": [
        {
          "output_type": "error",
          "ename": "TypeError",
          "evalue": "'tuple' object does not support item assignment",
          "traceback": [
            "\u001b[0;31m---------------------------------------------------------------------------\u001b[0m",
            "\u001b[0;31mTypeError\u001b[0m                                 Traceback (most recent call last)",
            "\u001b[0;32m/tmp/ipython-input-3383473967.py\u001b[0m in \u001b[0;36m<cell line: 0>\u001b[0;34m()\u001b[0m\n\u001b[1;32m      1\u001b[0m \u001b[0;31m## Change the second element of the tuple.\u001b[0m\u001b[0;34m\u001b[0m\u001b[0;34m\u001b[0m\u001b[0m\n\u001b[1;32m      2\u001b[0m \u001b[0mexample_tuple\u001b[0m \u001b[0;34m=\u001b[0m \u001b[0;34m(\u001b[0m\u001b[0;36m1\u001b[0m\u001b[0;34m,\u001b[0m \u001b[0;36m2\u001b[0m\u001b[0;34m,\u001b[0m \u001b[0;36m3\u001b[0m\u001b[0;34m,\u001b[0m \u001b[0;36m4\u001b[0m\u001b[0;34m)\u001b[0m\u001b[0;34m\u001b[0m\u001b[0;34m\u001b[0m\u001b[0m\n\u001b[0;32m----> 3\u001b[0;31m \u001b[0mexample_tuple\u001b[0m\u001b[0;34m[\u001b[0m\u001b[0;36m3\u001b[0m\u001b[0;34m]\u001b[0m \u001b[0;34m=\u001b[0m \u001b[0;36m9\u001b[0m\u001b[0;34m\u001b[0m\u001b[0;34m\u001b[0m\u001b[0m\n\u001b[0m\u001b[1;32m      4\u001b[0m \u001b[0mprint\u001b[0m\u001b[0;34m(\u001b[0m\u001b[0mexample_tuple\u001b[0m\u001b[0;34m)\u001b[0m\u001b[0;34m\u001b[0m\u001b[0;34m\u001b[0m\u001b[0m\n",
            "\u001b[0;31mTypeError\u001b[0m: 'tuple' object does not support item assignment"
          ]
        }
      ],
      "source": [
        "## Change the second element of the tuple.\n",
        "example_tuple = (1, 2, 3, 4)\n",
        "example_tuple[3] = 9\n",
        "print(example_tuple)"
      ]
    },
    {
      "cell_type": "markdown",
      "metadata": {
        "id": "8HM3o7eJ17Iq"
      },
      "source": [
        "### Dictionaries\n",
        "Dictionaries are simple lookup tables. They are denoted by curly brackets."
      ]
    },
    {
      "cell_type": "code",
      "execution_count": null,
      "metadata": {
        "id": "EyNI5Tst17Ir",
        "colab": {
          "base_uri": "https://localhost:8080/"
        },
        "outputId": "2ca44dca-6ab5-4403-ac0c-0e67fe2856b4"
      },
      "outputs": [
        {
          "output_type": "stream",
          "name": "stdout",
          "text": [
            "{'a': 1, 'b': 2, 'c': 3}\n",
            "3\n"
          ]
        }
      ],
      "source": [
        "example_dict = {'a':1, 'b':2, 'c':3}\n",
        "print(example_dict)\n",
        "print(example_dict['c'])"
      ]
    },
    {
      "cell_type": "markdown",
      "metadata": {
        "id": "XDuxePUQ17Ir"
      },
      "source": [
        "Dictionaries can also be generated using the **dict()** command. Notice the slightly different syntax."
      ]
    },
    {
      "cell_type": "code",
      "execution_count": null,
      "metadata": {
        "id": "GCxie6_T17Ir",
        "colab": {
          "base_uri": "https://localhost:8080/"
        },
        "outputId": "4a37696a-7248-4b9d-ffbe-182d49081660"
      },
      "outputs": [
        {
          "output_type": "stream",
          "name": "stdout",
          "text": [
            "{'a': 1, 'b': 2, 'c': 3}\n",
            "3\n"
          ]
        }
      ],
      "source": [
        "example_dict = dict(a=1, b=2, c=3)\n",
        "print(example_dict)\n",
        "print(example_dict['c'])"
      ]
    },
    {
      "cell_type": "markdown",
      "metadata": {
        "id": "13yuiQua17Ir"
      },
      "source": [
        "Dictionaries are comprised of \"keys\" and \"values\"."
      ]
    },
    {
      "cell_type": "code",
      "execution_count": null,
      "metadata": {
        "id": "T_rW-SAl17Is",
        "colab": {
          "base_uri": "https://localhost:8080/"
        },
        "outputId": "e6b9d0fa-eee1-48c1-fbed-88565687c9d3"
      },
      "outputs": [
        {
          "output_type": "stream",
          "name": "stdout",
          "text": [
            "dict_keys(['a', 'b', 'c'])\n",
            "dict_values([1, 2, 3])\n"
          ]
        }
      ],
      "source": [
        "print(example_dict.keys())\n",
        "print(example_dict.values())"
      ]
    },
    {
      "cell_type": "markdown",
      "metadata": {
        "id": "VBS3-odK17Is"
      },
      "source": [
        "Once initialized, new key/value pairs can be stored in a dictionary."
      ]
    },
    {
      "cell_type": "code",
      "execution_count": null,
      "metadata": {
        "id": "Nx1F4oeX17Is",
        "colab": {
          "base_uri": "https://localhost:8080/"
        },
        "outputId": "f7190d7b-7f5e-4951-84c5-145fece651aa"
      },
      "outputs": [
        {
          "output_type": "stream",
          "name": "stdout",
          "text": [
            "{'a': 1, 'b': 2, 'c': 3, 'd': 4}\n"
          ]
        }
      ],
      "source": [
        "example_dict['d'] = 4\n",
        "print(example_dict)"
      ]
    },
    {
      "cell_type": "markdown",
      "metadata": {
        "id": "apDHdviH17It"
      },
      "source": [
        "One nice feature of dictionaries is the **get** operator. This allows us to safely check for and return items in a dictionary."
      ]
    },
    {
      "cell_type": "code",
      "execution_count": null,
      "metadata": {
        "id": "1Go2JgVv17It",
        "colab": {
          "base_uri": "https://localhost:8080/"
        },
        "outputId": "26d9b56c-6629-487a-ce18-38a4eefc2d39"
      },
      "outputs": [
        {
          "output_type": "execute_result",
          "data": {
            "text/plain": [
              "False"
            ]
          },
          "metadata": {},
          "execution_count": 35
        }
      ],
      "source": [
        "example_dict.get('not_here', False)"
      ]
    },
    {
      "cell_type": "markdown",
      "metadata": {
        "id": "4uEJW8qa17It"
      },
      "source": [
        "## Control Flow in Python"
      ]
    },
    {
      "cell_type": "markdown",
      "metadata": {
        "id": "QtEWrc7i17It"
      },
      "source": [
        "### For and While Loops\n",
        "For loops have a very simple syntax."
      ]
    },
    {
      "cell_type": "code",
      "execution_count": null,
      "metadata": {
        "id": "6mfBkusz17Iu",
        "colab": {
          "base_uri": "https://localhost:8080/"
        },
        "outputId": "f3bcbe83-e244-41ab-aaa5-d5237f1e2422"
      },
      "outputs": [
        {
          "output_type": "stream",
          "name": "stdout",
          "text": [
            "0\n",
            "1\n",
            "2\n",
            "3\n",
            "4\n"
          ]
        }
      ],
      "source": [
        "for x in [0, 1, 2, 3, 4]:\n",
        "    print(x)"
      ]
    },
    {
      "cell_type": "markdown",
      "metadata": {
        "id": "1Hsss4sI17Iu"
      },
      "source": [
        "The same can be accomplished with **range**."
      ]
    },
    {
      "cell_type": "code",
      "execution_count": null,
      "metadata": {
        "id": "1t2YiZoN17Iu",
        "colab": {
          "base_uri": "https://localhost:8080/"
        },
        "outputId": "138a52da-ea62-4974-88d4-e4f9bfdf1caa"
      },
      "outputs": [
        {
          "output_type": "stream",
          "name": "stdout",
          "text": [
            "0\n",
            "1\n",
            "2\n",
            "3\n",
            "4\n"
          ]
        }
      ],
      "source": [
        "for x in range(5):\n",
        "    print(x)"
      ]
    },
    {
      "cell_type": "markdown",
      "metadata": {
        "id": "YjhIkhvX17Iv"
      },
      "source": [
        "Elements of a list can be directly iterated over in python."
      ]
    },
    {
      "cell_type": "code",
      "execution_count": null,
      "metadata": {
        "id": "FlSyZFIZ17Iv",
        "colab": {
          "base_uri": "https://localhost:8080/"
        },
        "outputId": "dd0be75f-7337-4d42-ba6f-e32c5cf79368"
      },
      "outputs": [
        {
          "output_type": "stream",
          "name": "stdout",
          "text": [
            "how\n",
            "now\n",
            "brown\n",
            "cow\n"
          ]
        }
      ],
      "source": [
        "for x in ['how', 'now', 'brown', 'cow']:\n",
        "    print(x)"
      ]
    },
    {
      "cell_type": "markdown",
      "metadata": {
        "id": "umB9ukI717Iv"
      },
      "source": [
        "For loops can be paired with the **enumerate** command for indexing."
      ]
    },
    {
      "cell_type": "code",
      "execution_count": null,
      "metadata": {
        "id": "y3sLoLBl17Iv",
        "colab": {
          "base_uri": "https://localhost:8080/"
        },
        "outputId": "c3ee9190-f7ae-40a5-89cd-6822d8ef06e1"
      },
      "outputs": [
        {
          "output_type": "stream",
          "name": "stdout",
          "text": [
            "0 2\n",
            "1 4\n",
            "2 1\n",
            "3 2\n"
          ]
        }
      ],
      "source": [
        "for i, x in enumerate([2,4,1,2]):\n",
        "    print(i,x)"
      ]
    },
    {
      "cell_type": "markdown",
      "metadata": {
        "id": "U55bR4CD17Iw"
      },
      "source": [
        "The **zip** command can be used to iterate over multiple lists at once."
      ]
    },
    {
      "cell_type": "code",
      "execution_count": null,
      "metadata": {
        "id": "Mp4Std2j17Iw",
        "colab": {
          "base_uri": "https://localhost:8080/"
        },
        "outputId": "8f04d6f4-7d0a-4cfb-cf54-c9f618ce718e"
      },
      "outputs": [
        {
          "output_type": "stream",
          "name": "stdout",
          "text": [
            "0 zero\n",
            "2 two\n",
            "4 four\n",
            "6 six\n",
            "8 eight\n"
          ]
        }
      ],
      "source": [
        "list1 = [0, 2, 4, 6, 8]\n",
        "list2 = ['zero', 'two', 'four', 'six', 'eight']\n",
        "\n",
        "for a,b in zip(list1,list2):\n",
        "    print(a,b)"
      ]
    },
    {
      "cell_type": "markdown",
      "metadata": {
        "id": "nwvDaO5V17Iw"
      },
      "source": [
        "A fun notation is to combine **zip** and **enumerate**."
      ]
    },
    {
      "cell_type": "code",
      "execution_count": null,
      "metadata": {
        "id": "0aXrK_Xi17Iw",
        "colab": {
          "base_uri": "https://localhost:8080/"
        },
        "outputId": "89ec1c64-5b8d-4b16-8f21-7bedcbcfac88"
      },
      "outputs": [
        {
          "output_type": "stream",
          "name": "stdout",
          "text": [
            "0 0 zero\n",
            "1 2 two\n",
            "2 4 four\n",
            "3 6 six\n",
            "4 8 eight\n"
          ]
        }
      ],
      "source": [
        "for i, (a, b) in enumerate(zip(list1, list2)):\n",
        "    print(i, a, b)"
      ]
    },
    {
      "cell_type": "markdown",
      "metadata": {
        "id": "90kZBvWN17Ix"
      },
      "source": [
        "**While** loops are similarly simple. While loops are initialized with a boolean statement. While True, the while loop will continue executing. Once False, the while loop terminates."
      ]
    },
    {
      "cell_type": "code",
      "execution_count": null,
      "metadata": {
        "id": "swM_seft17Ix",
        "colab": {
          "base_uri": "https://localhost:8080/"
        },
        "outputId": "cae5397f-9c61-42d2-e1bd-e2f410789224"
      },
      "outputs": [
        {
          "output_type": "stream",
          "name": "stdout",
          "text": [
            "0\n",
            "1\n",
            "2\n",
            "3\n",
            "4\n"
          ]
        }
      ],
      "source": [
        "i = 0\n",
        "while i < 5:\n",
        "    print(i)\n",
        "    i += 1"
      ]
    },
    {
      "cell_type": "markdown",
      "metadata": {
        "id": "yiyRy3aw17Ix"
      },
      "source": [
        "### Conditional logic with if, elif, else"
      ]
    },
    {
      "cell_type": "markdown",
      "metadata": {
        "id": "m0qHsnxU17Ix"
      },
      "source": [
        "In python, the three conditional statements are if, elif, and else.\n",
        "Here we will construct a simple for-loop testing parity."
      ]
    },
    {
      "cell_type": "code",
      "execution_count": null,
      "metadata": {
        "id": "S0Dqg-Z017Iy"
      },
      "outputs": [],
      "source": [
        "example_list = [4, 7, 9.4]\n",
        "\n",
        "for x in example_list:\n",
        "\n",
        "    if x % 2 == 0:\n",
        "        print('%s is even.' %x)\n",
        "\n",
        "    elif x % 2 == 1:\n",
        "        print('%s is odd.' %x)\n",
        "\n",
        "    else:\n",
        "        print('%s is not an integer.' %x)"
      ]
    },
    {
      "cell_type": "markdown",
      "metadata": {
        "id": "wG8tSNef17Iy"
      },
      "source": [
        "### Contiue and Break statements\n",
        "Conditional logic statements can be paired with the \"continue\" and \"break\"\n",
        "statments for additional control flow in For and While loops. The \"continue\"\n",
        "statement skips the current iteration of a For/While loop, whereas the\n",
        "\"break\" statement terminates the For/While loop.\n",
        "\n",
        "Below is an example of the continue statement. The for loop skips at the odd numbers."
      ]
    },
    {
      "cell_type": "code",
      "execution_count": null,
      "metadata": {
        "id": "76v9HTbf17Iy"
      },
      "outputs": [],
      "source": [
        "example_list = [4, 7, 9.4]\n",
        "\n",
        "for x in example_list:\n",
        "\n",
        "    if x % 2 == 0:\n",
        "        print('%s is even.' %x)\n",
        "\n",
        "    elif x % 2 == 1:\n",
        "        continue\n",
        "        print('%s is odd.' %x)\n",
        "\n",
        "    else:\n",
        "        print('%s is not an integer.' %x)"
      ]
    },
    {
      "cell_type": "markdown",
      "metadata": {
        "id": "7sH-42Aw17Iz"
      },
      "source": [
        "An example of the **break** statement. The for loop terminates at the first odd number."
      ]
    },
    {
      "cell_type": "code",
      "execution_count": null,
      "metadata": {
        "id": "dll7bL7u17Iz"
      },
      "outputs": [],
      "source": [
        "example_list = [4, 7, 9.4]\n",
        "\n",
        "for x in example_list:\n",
        "\n",
        "    if x % 2 == 0:\n",
        "        print('%s is even.' %x)\n",
        "\n",
        "    elif x % 2 == 1:\n",
        "        break\n",
        "        print('%s is odd.' %x)\n",
        "\n",
        "    else:\n",
        "        print('%s is not an integer.' %x)"
      ]
    },
    {
      "cell_type": "markdown",
      "metadata": {
        "id": "AVmBprfo17I0"
      },
      "source": [
        "### Checkpoint: For/While Loops\n",
        "Using a **for** or **while** loop, iterate over all integers in the range [0,250] and print every integer divisible by 11."
      ]
    },
    {
      "cell_type": "code",
      "execution_count": null,
      "metadata": {
        "id": "ggHf22XU17I0",
        "colab": {
          "base_uri": "https://localhost:8080/"
        },
        "outputId": "6bc2e013-f48e-44f7-8749-892ffae729e0"
      },
      "outputs": [
        {
          "output_type": "stream",
          "name": "stdout",
          "text": [
            "0\n",
            "11\n",
            "22\n",
            "33\n",
            "44\n",
            "55\n",
            "66\n",
            "77\n",
            "88\n",
            "99\n",
            "110\n",
            "121\n",
            "132\n",
            "143\n",
            "154\n",
            "165\n",
            "176\n",
            "187\n",
            "198\n",
            "209\n",
            "220\n",
            "231\n",
            "242\n"
          ]
        }
      ],
      "source": [
        "for x in range(251):\n",
        "    if x % 11 == 0:\n",
        "        print(x)"
      ]
    },
    {
      "cell_type": "markdown",
      "metadata": {
        "id": "TgYjAKo-17I0"
      },
      "source": [
        "### List comprehensions\n",
        "Python also allows for embedding For loops within lists as a nifty way of constructing/modifying lists. List comprehensions are very powerful (though sometimes memory intensive) and can be constructed with a few different syntaxes."
      ]
    },
    {
      "cell_type": "code",
      "execution_count": null,
      "metadata": {
        "id": "uuQrdKnE17I1"
      },
      "outputs": [],
      "source": [
        "example_list = [0,1,2,3,4]\n",
        "\n",
        "[x for x in example_list]"
      ]
    },
    {
      "cell_type": "markdown",
      "metadata": {
        "id": "LS5M8-X_17I1"
      },
      "source": [
        "Inclusive/exclusive list comprehension: here we exclude variables from the list if they do not meet a certain criterion."
      ]
    },
    {
      "cell_type": "code",
      "execution_count": null,
      "metadata": {
        "id": "PK9aG9sm17I2"
      },
      "outputs": [],
      "source": [
        "[x for x in example_list if x > 2]"
      ]
    },
    {
      "cell_type": "markdown",
      "metadata": {
        "id": "2r891A_Y17I2"
      },
      "source": [
        "Conditional list comprehension: here we transform variables from the list based on whether they meet a certain criterion."
      ]
    },
    {
      "cell_type": "code",
      "execution_count": null,
      "metadata": {
        "id": "p5FlqRlW17I2"
      },
      "outputs": [],
      "source": [
        "['odd' if x % 2 == 1 else 'even' for x in example_list]"
      ]
    },
    {
      "cell_type": "markdown",
      "metadata": {
        "id": "0fNHZ8_817I2"
      },
      "source": [
        "Note that else statements can be chained in list comprehensions."
      ]
    },
    {
      "cell_type": "code",
      "execution_count": null,
      "metadata": {
        "id": "anzSb1J717I3"
      },
      "outputs": [],
      "source": [
        "example_list = [4, 7, 9.4]\n",
        "\n",
        "['odd' if x % 2 == 1 else 'even' if x % 2 == 0 else 'non-integer' for x in example_list]"
      ]
    },
    {
      "cell_type": "markdown",
      "metadata": {
        "id": "2Vtp72l417I3"
      },
      "source": [
        "### Error handling with try/except logic.\n",
        "Python allows for intelligent error handling with the \"try\" and \"except\" logics. Code nested under a \"try\" command will be evaluated. If an error arises under a try block, the code in the except block will be evaluated instead. This is useful for handling exceptions and preventing scripts from breaking. Use with caution though if you cannot predict error corner cases!\n",
        "\n",
        "Here we will test try/except logic with a division-by-zero error. Note that I am specifying the error class, i.e. ZeroDivisionError. Python has a number of built-in error types, and it is better to specify the exact type of error you expect to ensure that only those types of errors are passed to the except block. Multiple excepts are permissible in try/except workflows."
      ]
    },
    {
      "cell_type": "code",
      "execution_count": null,
      "metadata": {
        "id": "qHW0uoR817I3"
      },
      "outputs": [],
      "source": [
        "## An example divide by zero error.\n",
        "example_list = [2, 10, 0]\n",
        "\n",
        "for x in example_list:\n",
        "    print(20 / x)"
      ]
    },
    {
      "cell_type": "code",
      "execution_count": null,
      "metadata": {
        "id": "R6CL_pSt17I4"
      },
      "outputs": [],
      "source": [
        "## An example try/catch handling divide by zero errors.\n",
        "example_list = [2, 10, 0]\n",
        "\n",
        "for x in example_list:\n",
        "    try:\n",
        "        print(20 / x)\n",
        "    except ZeroDivisionError:\n",
        "        print('You cannot divide 0, silly!')"
      ]
    },
    {
      "cell_type": "code",
      "execution_count": null,
      "metadata": {
        "id": "ogVarm_s17I4"
      },
      "outputs": [],
      "source": [
        "## Another way to handle errors with fewer lines is using the assert function\n",
        "example_list = [2, 10, 0]\n",
        "\n",
        "for x in example_list:\n",
        "    assert x!=0,'You cannot divide 0, silly!' # notice lack of parentheses\n",
        "    print(20 / x)"
      ]
    },
    {
      "cell_type": "markdown",
      "metadata": {
        "id": "JaLjBGlg17I4"
      },
      "source": [
        "## Basic Commands in Python"
      ]
    },
    {
      "cell_type": "markdown",
      "metadata": {
        "id": "4zj7pmf717I4"
      },
      "source": [
        "https://docs.python.org/3/library/functions.html"
      ]
    },
    {
      "cell_type": "markdown",
      "metadata": {
        "id": "rjUbdvgQ17I5"
      },
      "source": [
        "The most important command is the **range** command."
      ]
    },
    {
      "cell_type": "code",
      "execution_count": 2,
      "metadata": {
        "id": "H_-ApMbl17I5",
        "outputId": "ad81fad0-85c2-4eae-9d2f-0fe843884300",
        "colab": {
          "base_uri": "https://localhost:8080/"
        }
      },
      "outputs": [
        {
          "output_type": "stream",
          "name": "stdout",
          "text": [
            "range(5)     =range(0, 5)\n",
            "range(0,5)   = range(1, 5)\n",
            "range(0,5,2) = range(0, 5, 2)\n",
            "0\n",
            "2\n",
            "4\n"
          ]
        }
      ],
      "source": [
        "print('range(5)     =%s'  %range(5))     # Specify stop position.\n",
        "print('range(0,5)   = %s' %range(1,5))   # Specify start & stop position\n",
        "print('range(0,5,2) = %s' %range(0,5,2)) # Specify start, stop, and by.\n",
        "\n",
        "for x in range(0,5,2):\n",
        "    print(x)"
      ]
    },
    {
      "cell_type": "markdown",
      "metadata": {
        "id": "g-HZPLOD17I5"
      },
      "source": [
        "Each python type has its own function for the purpose of converting variables to different types."
      ]
    },
    {
      "cell_type": "code",
      "execution_count": 3,
      "metadata": {
        "id": "0uSaj7hi17I6",
        "outputId": "7e54b319-29e9-4d29-9149-f9f04e9ff82c",
        "colab": {
          "base_uri": "https://localhost:8080/"
        }
      },
      "outputs": [
        {
          "output_type": "stream",
          "name": "stdout",
          "text": [
            "7\n",
            "7.0\n",
            "[0, 1, 2, 3, 4]\n",
            "(0, 1, 2, 3, 4)\n",
            "[1, 12, 4]\n"
          ]
        }
      ],
      "source": [
        "X = range(5)\n",
        "\n",
        "print( int(7.4) )            # To integer.\n",
        "print ( float(7) )           # To float.\n",
        "print( list(X) )             # Range as list.\n",
        "print( tuple(X) )            # Range as tuple.\n",
        "print( str([1, 12, 4]) )     # Range as string (converts to string literally)."
      ]
    },
    {
      "cell_type": "markdown",
      "metadata": {
        "id": "cqQb_Eq417I6"
      },
      "source": [
        "The **type** and **isinstance** commands can be used to check the type of variables."
      ]
    },
    {
      "cell_type": "code",
      "execution_count": 4,
      "metadata": {
        "id": "yGxYwgcT17I6",
        "outputId": "d8f93969-4eaa-4047-d093-7038be12a794",
        "colab": {
          "base_uri": "https://localhost:8080/"
        }
      },
      "outputs": [
        {
          "output_type": "stream",
          "name": "stdout",
          "text": [
            "<class 'list'>\n",
            "False\n",
            "True\n"
          ]
        }
      ],
      "source": [
        "X = [1, 4, 5, 2]\n",
        "\n",
        "print( type(X) )\n",
        "print( type(X) == str )\n",
        "print( isinstance(X, list) )"
      ]
    },
    {
      "cell_type": "markdown",
      "metadata": {
        "id": "oYI7W3Qq17I7"
      },
      "source": [
        "There are commands to modify lists."
      ]
    },
    {
      "cell_type": "code",
      "execution_count": 5,
      "metadata": {
        "id": "JSEgYvTT17I7",
        "outputId": "569a536d-0c73-4374-aabf-c40b227c9227",
        "colab": {
          "base_uri": "https://localhost:8080/"
        }
      },
      "outputs": [
        {
          "output_type": "stream",
          "name": "stdout",
          "text": [
            "[1, 1, 2, 2, 3, 4, 5, 7]\n",
            "{1, 2, 3, 4, 5, 7}\n"
          ]
        }
      ],
      "source": [
        "example_list = [4, 1, 5, 2, 7, 1, 2, 3]\n",
        "\n",
        "print(sorted(example_list))    # Sort list.\n",
        "print(set(example_list))       # Get unique elements of list. Returns set."
      ]
    },
    {
      "cell_type": "code",
      "execution_count": 6,
      "metadata": {
        "id": "-iO3uPrw17I8",
        "outputId": "76439511-4e0f-4735-9f96-36e7442dfe00",
        "colab": {
          "base_uri": "https://localhost:8080/"
        }
      },
      "outputs": [
        {
          "output_type": "stream",
          "name": "stdout",
          "text": [
            "8\n",
            "25\n",
            "1\n",
            "7\n"
          ]
        }
      ],
      "source": [
        "## There are also commands to summarize lists.\n",
        "print(len(example_list))    # Count element in list.\n",
        "print(sum(example_list))    # Sum across list.\n",
        "print(min(example_list))    # Min across list.\n",
        "print(max(example_list))    # Max across list."
      ]
    },
    {
      "cell_type": "code",
      "execution_count": null,
      "metadata": {
        "id": "7oWiUp_r17I8"
      },
      "outputs": [],
      "source": [
        "## The any/all commands are very useful for testing if any\n",
        "## conditionals are met in a list.\n",
        "example_list = [True if x > 2 else False for x in range(5)]\n",
        "print(example_list)\n",
        "print(any(example_list))\n",
        "print(all(example_list))"
      ]
    },
    {
      "cell_type": "markdown",
      "metadata": {
        "id": "5mLsSFir17I9"
      },
      "source": [
        "## Defining Functions\n",
        "Define new functions with **def** and **return** functions. Any arguments specified in the **def** statement are necessary arguments for the newly defined function."
      ]
    },
    {
      "cell_type": "code",
      "execution_count": 8,
      "metadata": {
        "id": "mfIVCi0117I9"
      },
      "outputs": [],
      "source": [
        "def average(X):\n",
        "    '''Compute arithmetic mean for list, X.'''\n",
        "    return sum(X) / len(X)\n",
        "\n",
        "average?"
      ]
    },
    {
      "cell_type": "markdown",
      "metadata": {
        "id": "9mqI5hgc17I9"
      },
      "source": [
        "Arguments of user-defined functions can also be assigned default parameters."
      ]
    },
    {
      "cell_type": "code",
      "execution_count": 9,
      "metadata": {
        "id": "FBMWo2bs17I-"
      },
      "outputs": [],
      "source": [
        "def average(X, weights=False):\n",
        "    \"\"\"Compute arithmetic mean.\n",
        "\n",
        "    Parameters\n",
        "    ----------\n",
        "    X : list, shape (n,)\n",
        "        A list of values.\n",
        "    weights : list, shape (n,)\n",
        "        A list weights associated with the values in `X`.\n",
        "\n",
        "    Returns\n",
        "    -------\n",
        "    mu : float\n",
        "        (Weighted) average.\n",
        "    \"\"\"\n",
        "    if not weights: weights = [1] * len(X)\n",
        "    return sum( [x*w for x,w in zip(X,weights)] ) / sum(weights)"
      ]
    },
    {
      "cell_type": "markdown",
      "metadata": {
        "id": "CtOPrlAs17I-"
      },
      "source": [
        "Let's make sure it works."
      ]
    },
    {
      "cell_type": "code",
      "execution_count": null,
      "metadata": {
        "id": "_RBcYGlS17I-"
      },
      "outputs": [],
      "source": [
        "## Define some weights.\n",
        "weights = [1, 1, 1, 0.5, 0.5, 2, 4, 0.25]\n",
        "\n",
        "## Compute average / weighted average.\n",
        "print( 'Average:          %0.3f' %average(example_list) )\n",
        "print( 'Weighted average: %0.3f' %average(example_list, weights) )"
      ]
    },
    {
      "cell_type": "code",
      "execution_count": null,
      "metadata": {
        "id": "DAXF5-HG17I-"
      },
      "outputs": [],
      "source": [
        "## The lambda operator can also be used to define short functions.\n",
        "average = lambda X: sum(X) / len(X)\n",
        "\n",
        "print( 'Average: %0.3f' %average(example_list) )"
      ]
    },
    {
      "cell_type": "code",
      "execution_count": null,
      "metadata": {
        "id": "gDQqTKnn17I_"
      },
      "outputs": [],
      "source": []
    },
    {
      "cell_type": "code",
      "execution_count": null,
      "metadata": {
        "id": "XCPuvl2417I_"
      },
      "outputs": [],
      "source": []
    }
  ],
  "metadata": {
    "kernelspec": {
      "display_name": "Python 3",
      "language": "python",
      "name": "python3"
    },
    "language_info": {
      "codemirror_mode": {
        "name": "ipython",
        "version": 3
      },
      "file_extension": ".py",
      "mimetype": "text/x-python",
      "name": "python",
      "nbconvert_exporter": "python",
      "pygments_lexer": "ipython3",
      "version": "3.9.5"
    },
    "toc": {
      "colors": {
        "hover_highlight": "#DAA520",
        "navigate_num": "#000000",
        "navigate_text": "#333333",
        "running_highlight": "#FF0000",
        "selected_highlight": "#FFD700",
        "sidebar_border": "#EEEEEE",
        "wrapper_background": "#FFFFFF"
      },
      "moveMenuLeft": true,
      "nav_menu": {
        "height": "512px",
        "width": "252px"
      },
      "navigate_menu": true,
      "number_sections": false,
      "sideBar": true,
      "threshold": 4,
      "toc_cell": false,
      "toc_section_display": "block",
      "toc_window_display": false,
      "widenNotebook": false
    },
    "colab": {
      "provenance": []
    }
  },
  "nbformat": 4,
  "nbformat_minor": 0
}