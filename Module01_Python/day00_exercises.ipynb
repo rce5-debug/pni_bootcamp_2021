{
  "cells": [
    {
      "cell_type": "markdown",
      "metadata": {
        "id": "KpFLSaZb8Fhe"
      },
      "source": [
        "### Exercise 2: Built-in Functions\n",
        "\n",
        "a) Compute and store in separate variables the max spike count from each stimulus condition. Then, using an `if/else` statement, write some code which prints out which condition had the larger max count."
      ]
    },
    {
      "cell_type": "markdown",
      "metadata": {
        "id": "ps4-5IcChjLa"
      },
      "source": [
        "# Day 1 Exercises (Core Python)\n",
        "\n",
        "## Part 1: Spike Counts\n",
        "\n",
        "Imagine you've just finished recording from a V1 neuron. Across 60 experimental trials, you presented either a vertical or horizontal Gabor patch (30 each) and recorded the corresponding number of spikes (counts below). Now you want to ask some questions of your data."
      ]
    },
    {
      "cell_type": "code",
      "execution_count": null,
      "metadata": {
        "id": "y3549nSfhjLf"
      },
      "outputs": [],
      "source": [
        "## Spike counts: vertical Gabor patch.\n",
        "spikes_v = [39, 36, 38, 32, 28, 33, 28, 29, 30, 31, 22, 37, 26, 22, 37,\n",
        "            34, 26, 30, 32, 34, 30, 26, 30, 26, 32, 30, 28, 21, 35, 41]\n",
        "\n",
        "## Spike counts: horizontal Gabor patch.\n",
        "spikes_h = [28, 19, 15, 19, 25, 27, 19, 19, 28, 18, 19, 24, 14, 24, 16,\n",
        "            11, 24, 16, 21, 22, 18, 24, 24, 20, 15, 26, 20, 17, 21, 26]"
      ]
    },
    {
      "cell_type": "code",
      "source": [
        "ped = \"hello world\"\n",
        "print(ped)"
      ],
      "metadata": {
        "colab": {
          "base_uri": "https://localhost:8080/"
        },
        "id": "uSG0opXbpD9F",
        "outputId": "3f8a2169-b34f-4606-bee0-300ddce9e1ba"
      },
      "execution_count": null,
      "outputs": [
        {
          "output_type": "stream",
          "name": "stdout",
          "text": [
            "hello world\n"
          ]
        }
      ]
    },
    {
      "cell_type": "markdown",
      "metadata": {
        "id": "Ok-oVMmUhjLi"
      },
      "source": [
        "### Exercise 1: Indexing\n",
        "\n",
        "a) Return the spike count corresponding to the 17th presentation of the vertical stimulus."
      ]
    },
    {
      "cell_type": "code",
      "execution_count": null,
      "metadata": {
        "colab": {
          "base_uri": "https://localhost:8080/"
        },
        "id": "3oj4BUc5hjLj",
        "outputId": "9ed00ce8-e840-44d4-9c85-8d024b214ec3"
      },
      "outputs": [
        {
          "output_type": "stream",
          "name": "stdout",
          "text": [
            "26\n"
          ]
        }
      ],
      "source": [
        "## Spike counts: vertical Gabor patch\n",
        "spikes_v = [39, 36, 38, 32, 28, 33, 28, 29, 30, 31, 22, 37, 26, 22, 37,\n",
        "            34, 26, 30, 32, 34, 30, 26, 30, 26, 32, 30, 28, 21, 35, 41]\n",
        "\n",
        "print(spikes_v[16])\n"
      ]
    },
    {
      "cell_type": "markdown",
      "metadata": {
        "id": "UunbEJzUhjLj"
      },
      "source": [
        "\n",
        "\n",
        "```\n",
        "# This is formatted as code\n",
        "```\n",
        "\n",
        "b) Return the spike count corresponding to the fifth-from-last presentation of the horizontal stimulus."
      ]
    },
    {
      "cell_type": "code",
      "execution_count": null,
      "metadata": {
        "colab": {
          "base_uri": "https://localhost:8080/"
        },
        "id": "3gOw-hRwhjLk",
        "outputId": "e8b18a7a-2c04-48ed-d833-d5e9c838519e"
      },
      "outputs": [
        {
          "output_type": "stream",
          "name": "stdout",
          "text": [
            "30\n"
          ]
        }
      ],
      "source": [
        "## Spike counts: horizontal Gabor patch\n",
        "spikes_v = [39, 36, 38, 32, 28, 33, 28, 29, 30, 31, 22, 37, 26, 22, 37,\n",
        "            34, 26, 30, 32, 34, 30, 26, 30, 26, 32, 30, 28, 21, 35, 41]\n",
        "\n",
        "print(spikes_v[-5])\n"
      ]
    },
    {
      "cell_type": "markdown",
      "metadata": {
        "id": "1y99HGy8hjLl"
      },
      "source": [
        "c) Return the spike counts from every fourth\n",
        "\n",
        "---\n",
        "\n",
        "presentation of the horizontal stimulus."
      ]
    },
    {
      "cell_type": "code",
      "execution_count": null,
      "metadata": {
        "colab": {
          "base_uri": "https://localhost:8080/"
        },
        "id": "7_mLH_C5hjLl",
        "outputId": "8de3e474-b47d-429c-92bf-9a898378f2c4"
      },
      "outputs": [
        {
          "output_type": "stream",
          "name": "stdout",
          "text": [
            "[39, 28, 30, 26, 26, 30, 32, 35]\n"
          ]
        }
      ],
      "source": [
        "## Spike counts: horizontal Gabor patch\n",
        "spikes_v = [39, 36, 38, 32, 28, 33, 28, 29, 30, 31, 22, 37, 26, 22, 37,\n",
        "            34, 26, 30, 32, 34, 30, 26, 30, 26, 32, 30, 28, 21, 35, 41]\n",
        "\n",
        "print (spikes_v[::4])"
      ]
    },
    {
      "cell_type": "code",
      "source": [],
      "metadata": {
        "id": "ROqpTGb2vYSE"
      },
      "execution_count": null,
      "outputs": []
    },
    {
      "cell_type": "markdown",
      "metadata": {
        "id": "DuYUWHYIhjLl"
      },
      "source": [
        "d) Return spike count corresponding to the 3rd, 8th, and 10th-from-last presentaiton of the vertical stimulus. (Hint: use list comprehensions.)"
      ]
    },
    {
      "cell_type": "code",
      "execution_count": null,
      "metadata": {
        "colab": {
          "base_uri": "https://localhost:8080/"
        },
        "id": "cmeOivZshjLm",
        "outputId": "7c7f51d8-17eb-465b-b599-2d3b5219ea25"
      },
      "outputs": [
        {
          "output_type": "stream",
          "name": "stdout",
          "text": [
            "[21, 30, 30]\n"
          ]
        }
      ],
      "source": [
        "## Spike counts: vertical Gabor patch\n",
        "spikes_v = [39, 36, 38, 32, 28, 33, 28, 29, 30, 31, 22, 37, 26, 22, 37,\n",
        "            34, 26, 30, 32, 34, 30, 26, 30, 26, 32, 30, 28, 21, 35, 41]\n",
        "\n",
        "selected_spikes_v= [spikes_v[i] for i in [-3,-8,-10]]\n",
        "print(selected_spikes_v)"
      ]
    },
    {
      "cell_type": "markdown",
      "metadata": {
        "id": "R8UPSM1qhjLm"
      },
      "source": [
        "e) Return the 2nd largest recorded spike count in response to the vertical stimulus. (Hint: use the `sort` function.)"
      ]
    },
    {
      "cell_type": "code",
      "execution_count": null,
      "metadata": {
        "colab": {
          "base_uri": "https://localhost:8080/"
        },
        "id": "mhHKdJVDhjLn",
        "outputId": "46b9e35b-3e2d-4aaa-b3f4-69e6a2b93a53"
      },
      "outputs": [
        {
          "output_type": "stream",
          "name": "stdout",
          "text": [
            "39\n"
          ]
        }
      ],
      "source": [
        "## Spike counts: vertical Gabor patch\n",
        "spikes_v = [39, 36, 38, 32, 28, 33, 28, 29, 30, 31, 22, 37, 26, 22, 37,\n",
        "            34, 26, 30, 32, 34, 30, 26, 30, 26, 32, 30, 28, 21, 35, 41]\n",
        "sorted_by = sorted(spikes_v)\n",
        "print(sorted_by [-2])"
      ]
    },
    {
      "cell_type": "code",
      "source": [
        "## Spike counts: vertical Gabor patch\n",
        "spikes_v = [39, 36, 38, 32, 28, 33, 28, 29, 30, 31, 22, 37, 26, 22, 37,\n",
        "            34, 26, 30, 32, 34, 30, 26, 30, 26, 32, 30, 28, 21, 35, 41]\n",
        "  sorted_by = sorted(spikes_v)\n"
      ],
      "metadata": {
        "id": "tRQCsNQf0DP_"
      },
      "execution_count": null,
      "outputs": []
    },
    {
      "cell_type": "markdown",
      "metadata": {
        "id": "sXtf9hd8hjLn"
      },
      "source": [
        "### Exercise 2: Built-in Functions\n",
        "\n",
        "a) Compute and store in separate variables the max spike count from each stimulus condition. Then, using an `if/else` statement, write some code which prints out which condition had the larger max count."
      ]
    },
    {
      "cell_type": "code",
      "execution_count": null,
      "metadata": {
        "colab": {
          "base_uri": "https://localhost:8080/"
        },
        "id": "3PhVXc18hjLo",
        "outputId": "dae3f5a2-73c3-42de-a1b5-469ef544712f"
      },
      "outputs": [
        {
          "output_type": "stream",
          "name": "stdout",
          "text": [
            "The vertical stimulus condition had the larger max count: 41\n"
          ]
        }
      ],
      "source": [
        "## Spike counts: vertical Gabor patch.\n",
        "spikes_v = [39, 36, 38, 32, 28, 33, 28, 29, 30, 31, 22, 37, 26, 22, 37,\n",
        "            34, 26, 30, 32, 34, 30, 26, 30, 26, 32, 30, 28, 21, 35, 41]\n",
        "\n",
        "## Spike counts: horizontal Gabor patch.\n",
        "spikes_h = [28, 19, 15, 19, 25, 27, 19, 19, 28, 18, 19, 24, 14, 24, 16,\n",
        "            11, 24, 16, 21, 22, 18, 24, 24, 20, 15, 26, 20, 17, 21, 26]\n",
        "\n",
        "compute_higestcount_spike_v = max(spikes_v)\n",
        "compute_higestcount_spike_h = max(spikes_h)\n",
        "\n",
        "if compute_higestcount_spike_v > compute_higestcount_spike_h:\n",
        "  print(\"The vertical stimulus condition had the larger max count:\", compute_higestcount_spike_v)\n",
        "else:\n",
        "  print(\"The horizontal stimulus condition had the larger max count:\", compute_higestcount_spike_h)"
      ]
    },
    {
      "cell_type": "code",
      "source": [
        "print(5 / 2 )"
      ],
      "metadata": {
        "id": "KSzdLNUV5uw-",
        "colab": {
          "base_uri": "https://localhost:8080/"
        },
        "outputId": "7be1841c-2b8e-4ffb-8f7b-18093ec39e30"
      },
      "execution_count": null,
      "outputs": [
        {
          "output_type": "stream",
          "name": "stdout",
          "text": [
            "2.5\n"
          ]
        }
      ]
    },
    {
      "cell_type": "code",
      "metadata": {
        "id": "c5051aad"
      },
      "source": [
        "print(4 // 2)  # Except for integer division!"
      ],
      "execution_count": null,
      "outputs": []
    },
    {
      "cell_type": "markdown",
      "metadata": {
        "id": "ONglOuzOhjLo"
      },
      "source": [
        "b) Compute and store in separate variables the total spike counts from each stimulus condition. Then, using an `if/else` statement, write some code which prints out which condition had the smaller total count."
      ]
    },
    {
      "cell_type": "code",
      "execution_count": null,
      "metadata": {
        "id": "JAuynJ6thjLp"
      },
      "outputs": [],
      "source": [
        "## Spike counts: vertical Gabor patch.\n",
        "spikes_v = [39, 36, 38, 32, 28, 33, 28, 29, 30, 31, 22, 37, 26, 22, 37,\n",
        "            34, 26, 30, 32, 34, 30, 26, 30, 26, 32, 30, 28, 21, 35, 41]\n",
        "\n",
        "## Spike counts: horizontal Gabor patch.\n",
        "spikes_h = [28, 19, 15, 19, 25, 27, 19, 19, 28, 18, 19, 24, 14, 24, 16,\n",
        "            11, 24, 16, 21, 22, 18, 24, 24, 20, 15, 26, 20, 17, 21, 26]\n",
        "\n",
        "compute_totalcount_spike_v = sum(spikes_v)\n",
        "compute_totalcount_spike_h = sum(spikes_h)"
      ]
    },
    {
      "cell_type": "markdown",
      "metadata": {
        "id": "Er3p3OwwhjLp"
      },
      "source": [
        "### Exercise 3: Basic Scripting\n",
        "a) Create a new copy of each list that now contains spikes counts greater than or equal to 25. How many counts are now in each list?"
      ]
    },
    {
      "cell_type": "code",
      "execution_count": null,
      "metadata": {
        "id": "XLEqDh16hjLq"
      },
      "outputs": [],
      "source": [
        "## Spike counts: vertical Gabor patch.\n",
        "spikes_v = [39, 36, 38, 32, 28, 33, 28, 29, 30, 31, 22, 37, 26, 22, 37,\n",
        "            34, 26, 30, 32, 34, 30, 26, 30, 26, 32, 30, 28, 21, 35, 41]\n",
        "\n",
        "## Spike counts: horizontal Gabor patch.\n",
        "spikes_h = [28, 19, 15, 19, 25, 27, 19, 19, 28, 18, 19, 24, 14, 24, 16,\n",
        "            11, 24, 16, 21, 22, 18, 24, 24, 20, 15, 26, 20, 17, 21, 26]\n",
        "spikes_h_greater_25 = [i for i in spikes_h if i >= 25]\n",
        "spikes_v_greater_25 = [i for i in spikes_v if i >= 25]"
      ]
    },
    {
      "cell_type": "markdown",
      "metadata": {
        "id": "8zI5P46QhjLq"
      },
      "source": [
        "b) Using a for loop, create new list containing only the intersection of the two lists (i.e. containing only spike counts present in both lists."
      ]
    },
    {
      "cell_type": "code",
      "execution_count": null,
      "metadata": {
        "id": "LsHRANdChjLq",
        "colab": {
          "base_uri": "https://localhost:8080/"
        },
        "outputId": "4267fdfe-f40b-4841-8859-125c0a942900"
      },
      "outputs": [
        {
          "output_type": "stream",
          "name": "stdout",
          "text": [
            "28\n",
            "28\n",
            "28\n",
            "28\n",
            "28\n",
            "28\n",
            "21\n",
            "22\n",
            "22\n",
            "26\n",
            "26\n",
            "26\n",
            "26\n",
            "21\n",
            "26\n",
            "26\n",
            "26\n",
            "26\n"
          ]
        }
      ],
      "source": [
        "## Spike counts: vertical Gabor patch.\n",
        "spikes_v = [39, 36, 38, 32, 28, 33, 28, 29, 30, 31, 22, 37, 26, 22, 37,\n",
        "            34, 26, 30, 32, 34, 30, 26, 30, 26, 32, 30, 28, 21, 35, 41]\n",
        "\n",
        "## Spike counts: horizontal Gabor patch.\n",
        "spikes_h = [28, 19, 15, 19, 25, 27, 19, 19, 28, 18, 19, 24, 14, 24, 16,\n",
        "            11, 24, 16, 21, 22, 18, 24, 24, 20, 15, 26, 20, 17, 21, 26]\n",
        "for i in spikes_h:\n",
        "  for j in spikes_v:\n",
        "    if i ==j:\n",
        "      print(i)"
      ]
    },
    {
      "cell_type": "markdown",
      "metadata": {
        "id": "dzpyfm0nhjLr"
      },
      "source": [
        "c) Do the same as above, now only using list comprehensions."
      ]
    },
    {
      "cell_type": "code",
      "execution_count": null,
      "metadata": {
        "id": "-NXl2fZAhjLr",
        "colab": {
          "base_uri": "https://localhost:8080/"
        },
        "outputId": "b7ef6c24-b69e-43ae-8923-4ba70a9bb830"
      },
      "outputs": [
        {
          "output_type": "stream",
          "name": "stdout",
          "text": [
            "Intersection using list comprehension: [28, 28, 21, 22, 26, 21, 26]\n"
          ]
        }
      ],
      "source": [
        "## Spike counts: vertical Gabor patch.\n",
        "spikes_v = [39, 36, 38, 32, 28, 33, 28, 29, 30, 31, 22, 37, 26, 22, 37,\n",
        "            34, 26, 30, 32, 34, 30, 26, 30, 26, 32, 30, 28, 21, 35, 41]\n",
        "\n",
        "## Spike counts: horizontal Gabor patch.\n",
        "spikes_h = [28, 19, 15, 19, 25, 27, 19, 19, 28, 18, 19, 24, 14, 24, 16,\n",
        "            11, 24, 16, 21, 22, 18, 24, 24, 20, 15, 26, 20, 17, 21, 26]\n",
        "\n",
        "intersection_comprehension = [i for i in spikes_h if i in spikes_v]\n",
        "print(\"Intersection using list comprehension:\", intersection_comprehension)"
      ]
    },
    {
      "cell_type": "markdown",
      "metadata": {
        "id": "C4Cf1_RYhjLr"
      },
      "source": [
        "### Exercise 4: Custom Functions\n",
        "a) Copy the **mean** function from today's lecture. Which condition shows the greater number of spikes on average?"
      ]
    },
    {
      "cell_type": "code",
      "source": [
        "#Calculate the mean for each condition\n",
        "mean_spikes_h = mean(spike_h)\n",
        "mean_spikes_v = mean(spike_v)\n",
        "\n",
        "print(f\"Mean spike count for vertical stimulus: {mean_spike_v}\")"
      ],
      "metadata": {
        "id": "pvJWqUjyntBU"
      },
      "execution_count": null,
      "outputs": []
    },
    {
      "cell_type": "code",
      "metadata": {
        "colab": {
          "base_uri": "https://localhost:8080/"
        },
        "id": "6d088588",
        "outputId": "44669e6e-b215-438b-e3e9-b93b202eb402"
      },
      "source": [
        "# Calculate the mean for each condition\n",
        "mean_spikes_v = mean(spikes_v)\n",
        "mean_spikes_h = mean(spikes_h)\n",
        "\n",
        "print(f\"Mean spike count for vertical stimulus: {mean_spikes_v}\")\n",
        "print(f\"Mean spike count for horizontal stimulus: {mean_spikes_h}\")\n",
        "\n",
        "if mean_spikes_v > mean_spikes_h:\n",
        "    print(\"The vertical stimulus condition shows a greater number of spikes on average.\")\n",
        "elif mean_spikes_h > mean_spikes_v:\n",
        "    print(\"The horizontal stimulus condition shows a greater number of spikes on average.\")\n",
        "else:\n",
        "    print(\"Both stimulus conditions show the same number of spikes on average.\")"
      ],
      "execution_count": null,
      "outputs": [
        {
          "output_type": "stream",
          "name": "stdout",
          "text": [
            "Mean spike count for vertical stimulus: 30.766666666666666\n",
            "Mean spike count for horizontal stimulus: 20.633333333333333\n",
            "The vertical stimulus condition shows a greater number of spikes on average.\n"
          ]
        }
      ]
    },
    {
      "cell_type": "code",
      "source": [
        "## Spike counts: vertical Gabor patch.\n",
        "spikes_v = [39, 36, 38, 32, 28, 33, 28, 29, 30, 31, 22, 37, 26, 22, 37,\n",
        "            34, 26, 30, 32, 34, 30, 26, 30, 26, 32, 30, 28, 21, 35, 41]\n",
        "\n",
        "## Spike counts: horizontal Gabor patch.\n",
        "spikes_h = [28, 19, 15, 19, 25, 27, 19, 19, 28, 18, 19, 24, 14, 24, 16,\n",
        "            11, 24, 16, 21, 22, 18, 24, 24, 20, 15, 26, 20, 17, 21, 26]\n",
        "\n",
        "def mean(spikes_h):\n",
        "  \"\"\"Calculates the mean of a list of numbers.\"\"\"\n",
        "  return sum(spikes_h) / len(spikes_h)\n",
        "  print (f\"the mean of the is {average}\")\n",
        "\n",
        "mean_spikes_v = mean(spikes_v)\n",
        "mean_spikes_h = mean(spikes_h)"
      ],
      "metadata": {
        "id": "iJ8ypbVJqmIq"
      },
      "execution_count": null,
      "outputs": []
    },
    {
      "cell_type": "markdown",
      "metadata": {
        "id": "vWzJadLChjLs"
      },
      "source": [
        "b) Write a function that computes the **median** of a list. Which condition shows the greater median number of spikes?"
      ]
    },
    {
      "cell_type": "code",
      "source": [
        "## Spike counts: vertical Gabor patch.\n",
        "spikes_v = [39, 36, 38, 32, 28, 33, 28, 29, 30, 31, 22, 37, 26, 22, 37,\n",
        "            34, 26, 30, 32, 34, 30, 26, 30, 26, 32, 30, 28, 21, 35, 41]\n",
        "\n",
        "## Spike counts: horizontal Gabor patch.\n",
        "spikes_h = [28, 19, 15, 19, 25, 27, 19, 19, 28, 18, 19, 24, 14, 24, 16,\n",
        "            11, 24, 16, 21, 22, 18, 24, 24, 20, 15, 26, 20, 17, 21, 26]\n",
        "import math\n",
        "\n",
        "def median(data):\n",
        "    #calculate the median of a list of numbers.\n",
        "    data.sort()\n",
        "    n = len(data)\n",
        "    if n % 2 == 1:\n",
        "        return data[n // 2]\n",
        "    else:\n",
        "        return (data[n // 2 - 1] + data[n // 2]) / 2\n",
        "# Calculate the median for each condition\n",
        "median_spikes_v = median(spikes_v)\n",
        "median_spikes_h = median(spikes_h)\n",
        "\n",
        "print(f\"Median spike count for vertical stimulus: {median_spikes_v}\")\n",
        "print(f\"Median spike count for horizontal stimulus: {median_spikes_h}\")\n"
      ],
      "metadata": {
        "colab": {
          "base_uri": "https://localhost:8080/"
        },
        "id": "_LjAARCwi2Jv",
        "outputId": "4c8aa1aa-cb29-44b6-b49d-aa6fcc1cfdf0"
      },
      "execution_count": 6,
      "outputs": [
        {
          "output_type": "stream",
          "name": "stdout",
          "text": [
            "Median spike count for vertical stimulus: 30.0\n",
            "Median spike count for horizontal stimulus: 20.0\n"
          ]
        }
      ]
    },
    {
      "cell_type": "code",
      "execution_count": null,
      "metadata": {
        "id": "hWFV6eO4hjLs"
      },
      "outputs": [],
      "source": []
    },
    {
      "cell_type": "markdown",
      "metadata": {
        "id": "PGRcJToWhjLt"
      },
      "source": [
        "c) Write a function that computes the **standard deviation** of a list. Which condition shows the greater standard deviation in the number of spikes? As a reminder, the formula for the standard deviation is:\n",
        "\n",
        "$$ s = \\sqrt{\\frac{1}{N-1} \\sum_{i=1}^N (x_i - \\bar{x})^2 }$$"
      ]
    },
    {
      "cell_type": "code",
      "execution_count": 7,
      "metadata": {
        "id": "EcCk1XfbhjLt",
        "colab": {
          "base_uri": "https://localhost:8080/"
        },
        "outputId": "4ba22d9c-67f2-4f7b-a9ce-de6e5b5c0da4"
      },
      "outputs": [
        {
          "output_type": "stream",
          "name": "stdout",
          "text": [
            "Standard deviation for vertical stimulus: 5.076540590580961\n",
            "Standard deviation for horizontal stimulus: 4.429395018496889\n",
            "The vertical stimulus condition shows a greater standard deviation.\n"
          ]
        }
      ],
      "source": [
        "## Spike counts: vertical Gabor patch.\n",
        "spikes_v = [39, 36, 38, 32, 28, 33, 28, 29, 30, 31, 22, 37, 26, 22, 37,\n",
        "            34, 26, 30, 32, 34, 30, 26, 30, 26, 32, 30, 28, 21, 35, 41]\n",
        "\n",
        "## Spike counts: horizontal Gabor patch.\n",
        "spikes_h = [28, 19, 15, 19, 25, 27, 19, 19, 28, 18, 19, 24, 14, 24, 16,\n",
        "            11, 24, 16, 21, 22, 18, 24, 24, 20, 15, 26, 20, 17, 21, 26]\n",
        "\n",
        "import math\n",
        "\n",
        "def standard_deviation(data):\n",
        "  \"\"\"Computes the standard deviation of a list of numbers.\"\"\"\n",
        "  n = len(data)\n",
        "  if n < 2:\n",
        "    return 0  # Standard deviation is 0 for lists with less than 2 elements\n",
        "\n",
        "  mean = sum(data) / n\n",
        "  variance = sum((x - mean) ** 2 for x in data) / (n - 1)\n",
        "  return math.sqrt(variance)\n",
        "\n",
        "# Calculate standard deviation for each condition\n",
        "std_dev_v = standard_deviation(spikes_v)\n",
        "std_dev_h = standard_deviation(spikes_h)\n",
        "\n",
        "print(f\"Standard deviation for vertical stimulus: {std_dev_v}\")\n",
        "print(f\"Standard deviation for horizontal stimulus: {std_dev_h}\")\n",
        "\n",
        "if std_dev_v > std_dev_h:\n",
        "    print(\"The vertical stimulus condition shows a greater standard deviation.\")\n",
        "elif std_dev_h > std_dev_v:\n",
        "    print(\"The horizontal stimulus condition shows a greater standard deviation.\")\n",
        "else:\n",
        "    print(\"Both stimulus conditions show the same standard deviation.\")"
      ]
    },
    {
      "cell_type": "markdown",
      "metadata": {
        "id": "TkEUh76phjLt"
      },
      "source": [
        "## Part 2: Challenges\n",
        "\n",
        "Below are some programming challenges to test out your python muster!"
      ]
    },
    {
      "cell_type": "markdown",
      "metadata": {
        "id": "wqjKeAWNhjLu"
      },
      "source": [
        "### Exercise 1\n",
        "\n",
        "Write a function that checks if the inputted argument is even, odd, a float, or not a number (NaN)."
      ]
    },
    {
      "cell_type": "code",
      "execution_count": 4,
      "metadata": {
        "id": "OyBvM36VhjLu",
        "colab": {
          "base_uri": "https://localhost:8080/"
        },
        "outputId": "78da747c-8db3-4799-c116-f12cacb3ae0a"
      },
      "outputs": [
        {
          "output_type": "stream",
          "name": "stdout",
          "text": [
            "5 is odd.\n"
          ]
        }
      ],
      "source": [
        "# write a function that checks if the inputted argument is even, odd, or not\n",
        "# number\n",
        "x = 5\n",
        "if x % 2 == 0:\n",
        "    print(f\"{x} is even.\")\n",
        "elif x % 2 == 1:\n",
        "    print(f\"{x} is odd.\")\n",
        "elif isinstance(x, float):\n",
        "    print(f\"{x} is a float\")\n",
        "else:\n",
        "    print(f\"{x} is not a number.\")\n"
      ]
    },
    {
      "cell_type": "markdown",
      "metadata": {
        "id": "7S7gxH1LhjLv"
      },
      "source": [
        "### Exercise 2\n",
        "Starting with the list below, construct a `while` loop that returns the [Fibonacci numbers](https://en.wikipedia.org/wiki/Fibonacci_number) and terminates only when the most recent number is greater than 5000."
      ]
    },
    {
      "cell_type": "code",
      "execution_count": 12,
      "metadata": {
        "collapsed": true,
        "id": "m1MAobI1hjLv",
        "colab": {
          "base_uri": "https://localhost:8080/"
        },
        "outputId": "b9811d38-e127-48f4-da3a-c7a3f30ed3eb"
      },
      "outputs": [
        {
          "output_type": "stream",
          "name": "stdout",
          "text": [
            "[0, 1, 1, 2, 3, 5, 8, 13, 21, 34, 55, 89, 144, 233, 377, 610, 987, 1597, 2584, 4181, 6765]\n"
          ]
        }
      ],
      "source": [
        "fib_sequence = [0, 1]\n",
        "while fib_sequence[-1] <= 5000:\n",
        "  next_fib = fib_sequence[-1] + fib_sequence[-2]\n",
        "  fib_sequence.append(next_fib)\n",
        "\n",
        "print(fib_sequence)"
      ]
    },
    {
      "cell_type": "code",
      "source": [],
      "metadata": {
        "id": "eC0-m7oOv-3H"
      },
      "execution_count": null,
      "outputs": []
    },
    {
      "cell_type": "markdown",
      "metadata": {
        "id": "nSiIvUKKhjLv"
      },
      "source": [
        "### Exercise 3\n",
        "Define a function that checks if an inputted integer is prime. Test your function on the following numbers:\n",
        ">1411, 1147, 2327, 2683, 33233\n",
        "\n",
        "Only one number above is not prime.\n",
        "\n",
        "As an added challenge, if the tested integer is not prime, have the function return a number the integer is divisible by."
      ]
    },
    {
      "cell_type": "code",
      "source": [
        "def is_prime(n):\n",
        "    \"\"\"check if integer n is a prime. Return true if prime, or false otherwise\"\"\"\n",
        "    if n < 2:\n",
        "        return False\n",
        "    for i in range(2, int(n ** 0.5) + 1):\n",
        "        if n % i == 0:\n",
        "            return False\n",
        "    return True\n",
        "\n",
        "numbers_to_check = [1411, 1147, 2327, 2683, 33233]\n",
        "for num in numbers_to_check:\n",
        "    result = is_prime(num)\n",
        "    if result is True:\n",
        "        print(f\"{num} is a prime number.\")\n",
        "    else:\n",
        "        print(f\"{num} is not a prime number.\")"
      ],
      "metadata": {
        "colab": {
          "base_uri": "https://localhost:8080/"
        },
        "id": "ZWMS534gwE4B",
        "outputId": "81cdc9fd-84c8-4d69-b8c1-085388ccd592"
      },
      "execution_count": 26,
      "outputs": [
        {
          "output_type": "stream",
          "name": "stdout",
          "text": [
            "1411 is not a prime number.\n",
            "1147 is not a prime number.\n",
            "2327 is not a prime number.\n",
            "2683 is a prime number.\n",
            "33233 is not a prime number.\n"
          ]
        }
      ]
    },
    {
      "cell_type": "markdown",
      "source": [
        "if n < 2 return false because 2 is the first prime\n",
        "i in range:\n",
        "Ig n % 1 == 0 ( no reminder then it is not a prime)"
      ],
      "metadata": {
        "id": "uCqpv5iUy4A-"
      }
    },
    {
      "cell_type": "markdown",
      "metadata": {
        "id": "fPEL5b5fhjLw"
      },
      "source": [
        "### Exercise 4\n",
        "\n",
        "Write a function that converts a binary string into an integer. Test it on the following binary strings:\n",
        "\n",
        "- 00000111\n",
        "- 00110111\n",
        "- 01011011\n",
        "\n",
        "(Remember that binary is read from right-to-left.)"
      ]
    },
    {
      "cell_type": "code",
      "execution_count": 32,
      "metadata": {
        "id": "qZ00aRMNhjLw",
        "colab": {
          "base_uri": "https://localhost:8080/"
        },
        "outputId": "e7e09edb-c601-4fa3-9c30-4fadaffd4178"
      },
      "outputs": [
        {
          "output_type": "stream",
          "name": "stdout",
          "text": [
            "--- Binary to Integer Conversion ---\n",
            "Testing the following binary strings: ('111', '110111', '1011011')\n",
            "\n",
            "The binary string '111' is equal to the integer 7.\n",
            "The binary string '110111' is equal to the integer 55.\n",
            "The binary string '1011011' is equal to the integer 91.\n",
            "\n",
            "--- Verification with built-in function ---\n",
            "The binary string '111' is equal to the integer 7.\n",
            "The binary string '110111' is equal to the integer 55.\n",
            "The binary string '1011011' is equal to the integer 91.\n"
          ]
        }
      ],
      "source": [
        "# The list of binary strings to convert.\n",
        "binary_str = (\"111\", \"110111\", \"1011011\")\n",
        "\n",
        "def binary_to_int(binary_str_in):\n",
        "    \"\"\"\n",
        "    Converts a binary string to its decimal integer equivalent.\n",
        "    \"\"\"\n",
        "    decimal = 0\n",
        "    power = 0\n",
        "    # Iterate through the binary string from right to left.\n",
        "    for digit in reversed(binary_str_in):\n",
        "        # Convert the character digit to an integer and multiply by the appropriate power of 2.\n",
        "        decimal += int(digit) * (2 ** power)\n",
        "        # Increment the power for the next digit.\n",
        "        power += 1\n",
        "    return decimal\n",
        "\n",
        "print(\"--- Binary to Integer Conversion ---\")\n",
        "print(f\"Testing the following binary strings: {binary_str}\\n\")\n",
        "\n",
        "# Loop through each string in the tuple and convert it.\n",
        "for b_string in binary_str:\n",
        "    decimal_result = binary_to_int(b_string)\n",
        "    print(f\"The binary string '{b_string}' is equal to the integer {decimal_result}.\")\n",
        "\n",
        "# For comparison, Python's built-in function gives the same result.\n",
        "print(\"\\n--- Verification with built-in function ---\")\n",
        "for b_string in binary_str:\n",
        "    built_in_result = int(b_string, 2)\n",
        "    print(f\"The binary string '{b_string}' is equal to the integer {built_in_result}.\")"
      ]
    }
  ],
  "metadata": {
    "kernelspec": {
      "display_name": "Python 3",
      "language": "python",
      "name": "python3"
    },
    "language_info": {
      "codemirror_mode": {
        "name": "ipython",
        "version": 3
      },
      "file_extension": ".py",
      "mimetype": "text/x-python",
      "name": "python",
      "nbconvert_exporter": "python",
      "pygments_lexer": "ipython3",
      "version": "3.6.12"
    },
    "toc": {
      "colors": {
        "hover_highlight": "#DAA520",
        "navigate_num": "#000000",
        "navigate_text": "#333333",
        "running_highlight": "#FF0000",
        "selected_highlight": "#FFD700",
        "sidebar_border": "#EEEEEE",
        "wrapper_background": "#FFFFFF"
      },
      "moveMenuLeft": true,
      "nav_menu": {
        "height": "315px",
        "width": "252px"
      },
      "navigate_menu": true,
      "number_sections": false,
      "sideBar": true,
      "threshold": 4,
      "toc_cell": false,
      "toc_section_display": "block",
      "toc_window_display": false,
      "widenNotebook": false
    },
    "colab": {
      "provenance": []
    }
  },
  "nbformat": 4,
  "nbformat_minor": 0
}